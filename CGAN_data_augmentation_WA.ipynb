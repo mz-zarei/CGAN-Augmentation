{
  "nbformat": 4,
  "nbformat_minor": 0,
  "metadata": {
    "colab": {
      "name": "CGAN_data_augmentation_WA.ipynb",
      "provenance": [],
      "mount_file_id": "https://github.com/mz-zarei/CGAN-Augmentation/blob/main/CGAN_data_augmentation_WA.ipynb",
      "authorship_tag": "ABX9TyMRtVLWA6h+7aPy533Q5F8a",
      "include_colab_link": true
    },
    "kernelspec": {
      "name": "python3",
      "display_name": "Python 3"
    },
    "language_info": {
      "name": "python"
    },
    "accelerator": "GPU",
    "gpuClass": "standard"
  },
  "cells": [
    {
      "cell_type": "markdown",
      "metadata": {
        "id": "view-in-github",
        "colab_type": "text"
      },
      "source": [
        "<a href=\"https://colab.research.google.com/github/mz-zarei/CGAN-Augmentation/blob/main/CGAN_data_augmentation_WA.ipynb\" target=\"_parent\"><img src=\"https://colab.research.google.com/assets/colab-badge.svg\" alt=\"Open In Colab\"/></a>"
      ]
    },
    {
      "cell_type": "markdown",
      "source": [
        "# **Import Libs**"
      ],
      "metadata": {
        "id": "ozQZ3XDydybo"
      }
    },
    {
      "cell_type": "code",
      "execution_count": 1,
      "metadata": {
        "id": "CKHyBfTscwtB"
      },
      "outputs": [],
      "source": [
        "import warnings\n",
        "warnings.filterwarnings('ignore')\n",
        "\n",
        "import nbeb\n",
        "import importlib\n",
        "import numpy as np\n",
        "import random\n",
        "import seaborn as sns\n",
        "import pandas as pd\n",
        "from sklearn.model_selection import train_test_split\n",
        "import matplotlib.pyplot as plt\n",
        "from sklearn.preprocessing import StandardScaler, MinMaxScaler\n",
        "from scipy.stats import kendalltau, pearsonr, spearmanr\n",
        "from numpy import expand_dims\n",
        "from numpy import zeros\n",
        "from numpy import ones\n",
        "from numpy import vstack\n",
        "from numpy.random import randn\n",
        "from numpy.random import randint\n",
        "from keras.datasets.mnist import load_data\n",
        "from tensorflow.keras.optimizers import Adam\n",
        "from keras.models import Sequential\n",
        "from keras.initializers import RandomNormal\n",
        "from keras.layers import Dense\n",
        "from keras.layers import Reshape\n",
        "from keras.layers import Flatten, BatchNormalization\n",
        "from keras.layers import Conv2D, Conv1D\n",
        "from keras.layers import Conv2DTranspose\n",
        "from keras.layers import LeakyReLU, ELU, ReLU, concatenate\n",
        "from keras.layers import Dropout\n",
        "from matplotlib import pyplot\n",
        "from keras import Input, Model\n",
        "import keras\n",
        "from keras.models import load_model\n",
        "from numpy.random import randn\n",
        "from matplotlib import pyplot\n",
        "import statsmodels.api as sm\n",
        "import statsmodels.formula.api as smf\n",
        "from statsmodels.distributions.empirical_distribution import ECDF\n",
        "from sklearn.metrics import mean_absolute_error, mean_squared_error, r2_score\n",
        "import matplotlib.pyplot as plt\n"
      ]
    },
    {
      "cell_type": "code",
      "source": [
        "#### GAN training Functions\n",
        "# define the standalone discriminator model\n",
        "def define_discriminator():\n",
        "    y = Input(shape=(x_size,), dtype='float')\n",
        "    y_output = Dense(100, activation=activation, kernel_initializer=kerner_initializer)(y)\n",
        "\n",
        "    label = Input(shape=(1,))\n",
        "    label_output = Dense(100, activation=activation, kernel_initializer=kerner_initializer)(label)\n",
        "\n",
        "    concat = concatenate([y_output, label_output])\n",
        "    concat = Dense(50, activation=activation, kernel_initializer=kerner_initializer)(concat)\n",
        "    concat = Dense(50, activation=activation, kernel_initializer=kerner_initializer)(concat)\n",
        "    validity = Dense(1, activation=\"sigmoid\", kernel_initializer=random_uniform)(concat)\n",
        "\n",
        "    model = Model(inputs=[y, label], outputs=validity)\n",
        "\n",
        "    # compile model\n",
        "    opt = Adam(learning_rate=dis_lr, beta_1=0.5, decay=dis_dec)\n",
        "    model.compile(loss='binary_crossentropy', optimizer=opt, metrics=['accuracy'])\n",
        "    return model\n",
        "\n",
        "# define the standalone generator model\n",
        "def define_generator(latent_dim, in_shape=1):\n",
        "    y = Input(shape=in_shape, dtype='float')\n",
        "    y_output = Dense(100, activation=activation, kernel_initializer=kerner_initializer)(y)\n",
        "\n",
        "    noise = Input(shape=(latent_dim,))\n",
        "    noise_output = Dense(100, activation=activation, kernel_initializer=kerner_initializer)(noise)\n",
        "\n",
        "    concat = concatenate([y_output, noise_output])\n",
        "\n",
        "    output = Dense(50, activation=activation, kernel_initializer=kerner_initializer)(concat)\n",
        "    output = Dense(50, activation=activation, kernel_initializer=kerner_initializer)(output)\n",
        "    output = Dense(50, activation=activation, kernel_initializer=kerner_initializer)(output)\n",
        "    output = Dense(x_size, activation=\"relu\", kernel_initializer=random_normal)(output)\n",
        "\n",
        "    model = Model(inputs=[noise, y], outputs=output)\n",
        "    return model\n",
        "\n",
        "# define the combined generator and discriminator model, for updating the generator\n",
        "def define_gan(g_model, d_model):\n",
        "    # make weights in the discriminator not trainable\n",
        "    d_model.trainable = False\n",
        "    # get noise and label inputs from generator model\n",
        "    gen_noise, gen_label = g_model.input\n",
        "    # get output from the generator model\n",
        "    gen_output = g_model.output\n",
        "    # connect output and label input from generator as inputs to discriminator\n",
        "    gan_output = d_model([gen_output, gen_label])\n",
        "    # define gan model as taking noise and label and outputting a classification\n",
        "    model = Model([gen_noise, gen_label], gan_output)\n",
        "    # compile model\n",
        "    opt = Adam(learning_rate=gen_lr, beta_1=0.5, decay=gen_dec)\n",
        "    model.compile(loss='binary_crossentropy', optimizer=opt)\n",
        "    return model\n",
        "\n",
        "# load and prepare training set\n",
        "def load_real_samples(x_train,y_train):\n",
        "\n",
        "    trainX = x_train.to_numpy()\n",
        "    trainY = y_train.to_numpy()\n",
        "\n",
        "    return [trainX, trainY]\n",
        "\n",
        "# select real samples\n",
        "def generate_real_samples(dataset, n_samples):\n",
        "    # choose random instances\n",
        "    ix = randint(0, dataset[0].shape[0], n_samples)\n",
        "    # retrieve selected images\n",
        "    X, labels = dataset[0][ix], dataset[1][ix]\n",
        "    # generate 'real' class labels (1)\n",
        "    y = ones((n_samples, 1))\n",
        "    return [X, labels], y\n",
        "\n",
        "# generate emipircal distribution of real y samples\n",
        "def generate_y_labels(y_train, size):\n",
        "    y_train = y_train.tolist()\n",
        "\n",
        "    min_y = min(y_train)\n",
        "    max_y = max(y_train)\n",
        "\n",
        "    y_list = range(min_y, max_y+1)\n",
        "    y_prob_list = []\n",
        "\n",
        "\n",
        "    for y in y_list:\n",
        "        y_prob = y_train.count(y)/len(y_train)\n",
        "        y_prob_list.append(y_prob)\n",
        "\n",
        "    for i, prob in enumerate(y_prob_list):\n",
        "        if prob == 0:\n",
        "            y_prob_list[i] = y_prob_list[len(y_prob_list)-1]\n",
        "    \n",
        "    y_prob_list_normalized = [float(i)/sum(y_prob_list) for i in y_prob_list]\n",
        "\n",
        "\n",
        "    sample_label = np.random.choice(y_list, size=size, p=y_prob_list_normalized)\n",
        "    return sample_label\n",
        "\n",
        "# Cure plot\n",
        "def CURE(data, ax, x_label, plot_label, ls='-', y_name='Obs', x='Ftot', y_pred='y_pred',boundry=True):\n",
        "    data.sort_values(by=x, ascending=True, inplace=True)\n",
        "    data.reset_index(drop=True, inplace=True)\n",
        "\n",
        "    data['res'] = data[y_pred] - data[y_name]\n",
        "    data['res_sq'] = (data[y_pred] - data[y_name])**2\n",
        "\n",
        "    data['e1'] = data['res'].cumsum()\n",
        "    data['e2'] = data['res_sq'].cumsum()\n",
        "    data['e3'] = data['e2']*((1 - data['e2']/data['e2'][len(data['e2'])-1]))\n",
        "    if boundry == True:\n",
        "        ax.plot(data[x], data['e3'], linestyle = 'dotted',label=\"2$\\sigma$\")\n",
        "        ax.plot(data[x], -data['e3'], linestyle = 'dotted',label=\"-2$\\sigma$\")\n",
        "    ax.plot(data[x], data['e1'], linestyle = ls, label = plot_label)\n",
        "    ax.legend(loc='upper right',fontsize=10)\n",
        "    ax.set_xlabel(x_label)\n",
        "    ax.set_ylabel('CURE')\n",
        "   \n",
        "\n",
        "\n",
        "# generate points in latent space as input for the generator\n",
        "def generate_latent_points(latent_dim, n_samples):\n",
        "    # generate points in the latent space\n",
        "    x_input = randn(latent_dim * n_samples) #randn(latent_dim * n_samples)\n",
        "    # reshape into a batch of inputs for the network\n",
        "    z_input = x_input.reshape(n_samples, latent_dim)\n",
        "    # generate labels\n",
        "    labels = np.random.choice(max, size=n_samples, p=prob)\n",
        "    return [z_input, labels]\n",
        "\n",
        "# use the generator to generate n fake examples, with class labels\n",
        "def generate_fake_samples(generator, latent_dim, n_samples):\n",
        "    # generate points in latent space\n",
        "    z_input, labels_input = generate_latent_points(latent_dim, n_samples)\n",
        "    # predict outputs\n",
        "    samples = generator.predict([z_input, labels_input])\n",
        "    # create class labels\n",
        "    y = zeros((n_samples, 1))\n",
        "    return [samples, labels_input], y\n",
        "\n",
        "# create a line plot of loss for the gan and save to file\n",
        "def plot_history(d1_hist, d2_hist, g_hist):\n",
        "    # plot history\n",
        "    pyplot.plot(d1_hist, label='Dis loss real')\n",
        "    pyplot.plot(d2_hist, label='Dis loss fake')\n",
        "    pyplot.plot(g_hist, label='Gen loss')\n",
        "    pyplot.legend()\n",
        "    pyplot.savefig('plot_line_plot_loss.png')\n",
        "\n",
        "# evaluate the discriminator, plot generated images, save generator model\n",
        "def summarize_performance(epoch, g_model, d_model, dataset, latent_dim, n_samples=100):\n",
        "    # prepare real samples\n",
        "    X_real, y_real = generate_real_samples(dataset, n_samples)\n",
        "    # evaluate discriminator on real examples\n",
        "    _, acc_real = d_model.evaluate(X_real, y_real, verbose=0)\n",
        "    # prepare fake examples\n",
        "    x_fake, y_fake = generate_fake_samples(g_model, latent_dim, n_samples)\n",
        "    # evaluate discriminator on fake examples\n",
        "    _, acc_fake = d_model.evaluate(x_fake, y_fake, verbose=0)\n",
        "    # summarize discriminator performance\n",
        "    print('>Accuracy real: %.0f%%, fake: %.0f%%' % (acc_real*100, acc_fake*100))\n",
        "    # save the generator model tile file\n",
        "    filename = '/content/drive/MyDrive/GAN_regression/ganRegression/CGAN_augment_models/WA_generator_model_%03d.h5' % (epoch + 1)\n",
        "    g_model.save(filename)\n",
        "\n",
        "# train the generator and discriminator\n",
        "def train(g_model, d_model, gan_model, dataset, latent_dim, n_epochs, n_batch):\n",
        "    bat_per_epo = int(dataset[0].shape[0] / n_batch)\n",
        "    half_batch = int(n_batch / 2)\n",
        "    # lists for keeping track of loss\n",
        "    d1_hist, d2_hist, g_hist = list(), list(), list()\n",
        "    # manually enumerate epochs\n",
        "    for i in range(n_epochs):\n",
        "        # enumerate batches over the training set\n",
        "        for j in range(bat_per_epo):\n",
        "            # get randomly selected 'real' samples\n",
        "            [X_real, labels_real], y_real = generate_real_samples(dataset, half_batch)\n",
        "            # update discriminator model weights\n",
        "            d_loss1, _ = d_model.train_on_batch([X_real, labels_real], y_real)\n",
        "            # generate 'fake' examples\n",
        "            [X_fake, labels], y_fake = generate_fake_samples(g_model, latent_dim, half_batch)\n",
        "            # update discriminator model weights\n",
        "            d_loss2, _ = d_model.train_on_batch([X_fake, labels], y_fake)\n",
        "            # prepare points in latent space as input for the generator\n",
        "            [z_input, labels_input] = generate_latent_points(latent_dim, n_batch)\n",
        "            # create inverted labels for the fake samples\n",
        "            y_gan = ones((n_batch, 1))\n",
        "            # update the generator via the discriminator's error\n",
        "            g_loss = gan_model.train_on_batch([z_input, labels_input], y_gan)\n",
        "\n",
        "        d1_hist.append(d_loss1)\n",
        "        d2_hist.append(d_loss2)\n",
        "        g_hist.append(g_loss)\n",
        "        # evaluate the model performance, sometimes\n",
        "        if (i+1) % 200 == 0:\n",
        "            summarize_performance(i, g_model, d_model, dataset, latent_dim)\n",
        "            print('Epoch: %d, dLoss real = %.3f, dLoss fake = %.3f, gLoss = %.3f' % (i+1, d_loss1, d_loss2, g_loss))\n",
        "    plot_history(d1_hist, d2_hist, g_hist)\n",
        "    return d1_hist, d2_hist, g_hist\n",
        "\n",
        "\n",
        "\n",
        "\n",
        "seed = 40\n",
        "random.seed(seed)\n",
        "np.random.seed(seed)\n",
        "kerner_initializer = keras.initializers.he_normal(seed=seed)\n",
        "random_uniform = keras.initializers.RandomUniform(seed=seed)\n",
        "random_normal = keras.initializers.RandomNormal(seed=seed)\n",
        "latent_dim, x_size = 4, 4\n",
        "activation = \"elu\""
      ],
      "metadata": {
        "id": "KhViFBJa_YhQ"
      },
      "execution_count": 352,
      "outputs": []
    },
    {
      "cell_type": "markdown",
      "source": [
        "# **Preparing Crash Data**"
      ],
      "metadata": {
        "id": "h7PDGt_YejrM"
      }
    },
    {
      "cell_type": "code",
      "source": [
        "## Importing Data\n",
        "y_name = 'FI'\n",
        "Path_to_data = \"/content/drive/MyDrive/GAN_regression/ganRegression/UrbanFreeWay4laneDivided.xlsx\"\n",
        "\n",
        "all_data = pd.read_excel(Path_to_data)\n",
        "print(f'Columns: {all_data.columns}')\n",
        "all_data.sort_values(by=['ID'])\n",
        "\n",
        "# data['TERRAIN'].describe()\n",
        "all_data.groupby('year').FI.describe().round(2)\n",
        "# data.describe().round(2)"
      ],
      "metadata": {
        "colab": {
          "base_uri": "https://localhost:8080/",
          "height": 358
        },
        "id": "PzLBaY6lei2Z",
        "outputId": "6ec93da2-797d-4082-fc79-41f381c4ce85"
      },
      "execution_count": 48,
      "outputs": [
        {
          "output_type": "stream",
          "name": "stdout",
          "text": [
            "Columns: Index(['RURURB', 'TERRAIN', 'LSHLDWID', 'LSHL_WD2', 'MEDWID', 'NO_LANES',\n",
            "       'RSHLDWID', 'RSHL_WD2', 'SEG_LNG', 'lanewid', 'AADT', 'year', 'RSW_r',\n",
            "       'LSW_r', 'Divided', 'rodwycls', 'Class', 'Class2', 'ID', 'PDO', 'Fatal',\n",
            "       'Injury', 'FI', 'TotalCrash'],\n",
            "      dtype='object')\n"
          ]
        },
        {
          "output_type": "execute_result",
          "data": {
            "text/plain": [
              "       count  mean   std  min  25%  50%  75%   max\n",
              "year                                              \n",
              "2012  3085.0  0.22  0.76  0.0  0.0  0.0  0.0  17.0\n",
              "2013  3085.0  0.20  0.71  0.0  0.0  0.0  0.0  11.0\n",
              "2014  3085.0  0.23  0.82  0.0  0.0  0.0  0.0  15.0\n",
              "2015  3085.0  0.26  0.87  0.0  0.0  0.0  0.0  19.0\n",
              "2016  3085.0  0.29  0.97  0.0  0.0  0.0  0.0  23.0\n",
              "2017  3085.0  0.28  0.85  0.0  0.0  0.0  0.0  16.0"
            ],
            "text/html": [
              "\n",
              "  <div id=\"df-a908e9de-3821-4e15-984d-f656e6fd1d9a\">\n",
              "    <div class=\"colab-df-container\">\n",
              "      <div>\n",
              "<style scoped>\n",
              "    .dataframe tbody tr th:only-of-type {\n",
              "        vertical-align: middle;\n",
              "    }\n",
              "\n",
              "    .dataframe tbody tr th {\n",
              "        vertical-align: top;\n",
              "    }\n",
              "\n",
              "    .dataframe thead th {\n",
              "        text-align: right;\n",
              "    }\n",
              "</style>\n",
              "<table border=\"1\" class=\"dataframe\">\n",
              "  <thead>\n",
              "    <tr style=\"text-align: right;\">\n",
              "      <th></th>\n",
              "      <th>count</th>\n",
              "      <th>mean</th>\n",
              "      <th>std</th>\n",
              "      <th>min</th>\n",
              "      <th>25%</th>\n",
              "      <th>50%</th>\n",
              "      <th>75%</th>\n",
              "      <th>max</th>\n",
              "    </tr>\n",
              "    <tr>\n",
              "      <th>year</th>\n",
              "      <th></th>\n",
              "      <th></th>\n",
              "      <th></th>\n",
              "      <th></th>\n",
              "      <th></th>\n",
              "      <th></th>\n",
              "      <th></th>\n",
              "      <th></th>\n",
              "    </tr>\n",
              "  </thead>\n",
              "  <tbody>\n",
              "    <tr>\n",
              "      <th>2012</th>\n",
              "      <td>3085.0</td>\n",
              "      <td>0.22</td>\n",
              "      <td>0.76</td>\n",
              "      <td>0.0</td>\n",
              "      <td>0.0</td>\n",
              "      <td>0.0</td>\n",
              "      <td>0.0</td>\n",
              "      <td>17.0</td>\n",
              "    </tr>\n",
              "    <tr>\n",
              "      <th>2013</th>\n",
              "      <td>3085.0</td>\n",
              "      <td>0.20</td>\n",
              "      <td>0.71</td>\n",
              "      <td>0.0</td>\n",
              "      <td>0.0</td>\n",
              "      <td>0.0</td>\n",
              "      <td>0.0</td>\n",
              "      <td>11.0</td>\n",
              "    </tr>\n",
              "    <tr>\n",
              "      <th>2014</th>\n",
              "      <td>3085.0</td>\n",
              "      <td>0.23</td>\n",
              "      <td>0.82</td>\n",
              "      <td>0.0</td>\n",
              "      <td>0.0</td>\n",
              "      <td>0.0</td>\n",
              "      <td>0.0</td>\n",
              "      <td>15.0</td>\n",
              "    </tr>\n",
              "    <tr>\n",
              "      <th>2015</th>\n",
              "      <td>3085.0</td>\n",
              "      <td>0.26</td>\n",
              "      <td>0.87</td>\n",
              "      <td>0.0</td>\n",
              "      <td>0.0</td>\n",
              "      <td>0.0</td>\n",
              "      <td>0.0</td>\n",
              "      <td>19.0</td>\n",
              "    </tr>\n",
              "    <tr>\n",
              "      <th>2016</th>\n",
              "      <td>3085.0</td>\n",
              "      <td>0.29</td>\n",
              "      <td>0.97</td>\n",
              "      <td>0.0</td>\n",
              "      <td>0.0</td>\n",
              "      <td>0.0</td>\n",
              "      <td>0.0</td>\n",
              "      <td>23.0</td>\n",
              "    </tr>\n",
              "    <tr>\n",
              "      <th>2017</th>\n",
              "      <td>3085.0</td>\n",
              "      <td>0.28</td>\n",
              "      <td>0.85</td>\n",
              "      <td>0.0</td>\n",
              "      <td>0.0</td>\n",
              "      <td>0.0</td>\n",
              "      <td>0.0</td>\n",
              "      <td>16.0</td>\n",
              "    </tr>\n",
              "  </tbody>\n",
              "</table>\n",
              "</div>\n",
              "      <button class=\"colab-df-convert\" onclick=\"convertToInteractive('df-a908e9de-3821-4e15-984d-f656e6fd1d9a')\"\n",
              "              title=\"Convert this dataframe to an interactive table.\"\n",
              "              style=\"display:none;\">\n",
              "        \n",
              "  <svg xmlns=\"http://www.w3.org/2000/svg\" height=\"24px\"viewBox=\"0 0 24 24\"\n",
              "       width=\"24px\">\n",
              "    <path d=\"M0 0h24v24H0V0z\" fill=\"none\"/>\n",
              "    <path d=\"M18.56 5.44l.94 2.06.94-2.06 2.06-.94-2.06-.94-.94-2.06-.94 2.06-2.06.94zm-11 1L8.5 8.5l.94-2.06 2.06-.94-2.06-.94L8.5 2.5l-.94 2.06-2.06.94zm10 10l.94 2.06.94-2.06 2.06-.94-2.06-.94-.94-2.06-.94 2.06-2.06.94z\"/><path d=\"M17.41 7.96l-1.37-1.37c-.4-.4-.92-.59-1.43-.59-.52 0-1.04.2-1.43.59L10.3 9.45l-7.72 7.72c-.78.78-.78 2.05 0 2.83L4 21.41c.39.39.9.59 1.41.59.51 0 1.02-.2 1.41-.59l7.78-7.78 2.81-2.81c.8-.78.8-2.07 0-2.86zM5.41 20L4 18.59l7.72-7.72 1.47 1.35L5.41 20z\"/>\n",
              "  </svg>\n",
              "      </button>\n",
              "      \n",
              "  <style>\n",
              "    .colab-df-container {\n",
              "      display:flex;\n",
              "      flex-wrap:wrap;\n",
              "      gap: 12px;\n",
              "    }\n",
              "\n",
              "    .colab-df-convert {\n",
              "      background-color: #E8F0FE;\n",
              "      border: none;\n",
              "      border-radius: 50%;\n",
              "      cursor: pointer;\n",
              "      display: none;\n",
              "      fill: #1967D2;\n",
              "      height: 32px;\n",
              "      padding: 0 0 0 0;\n",
              "      width: 32px;\n",
              "    }\n",
              "\n",
              "    .colab-df-convert:hover {\n",
              "      background-color: #E2EBFA;\n",
              "      box-shadow: 0px 1px 2px rgba(60, 64, 67, 0.3), 0px 1px 3px 1px rgba(60, 64, 67, 0.15);\n",
              "      fill: #174EA6;\n",
              "    }\n",
              "\n",
              "    [theme=dark] .colab-df-convert {\n",
              "      background-color: #3B4455;\n",
              "      fill: #D2E3FC;\n",
              "    }\n",
              "\n",
              "    [theme=dark] .colab-df-convert:hover {\n",
              "      background-color: #434B5C;\n",
              "      box-shadow: 0px 1px 3px 1px rgba(0, 0, 0, 0.15);\n",
              "      filter: drop-shadow(0px 1px 2px rgba(0, 0, 0, 0.3));\n",
              "      fill: #FFFFFF;\n",
              "    }\n",
              "  </style>\n",
              "\n",
              "      <script>\n",
              "        const buttonEl =\n",
              "          document.querySelector('#df-a908e9de-3821-4e15-984d-f656e6fd1d9a button.colab-df-convert');\n",
              "        buttonEl.style.display =\n",
              "          google.colab.kernel.accessAllowed ? 'block' : 'none';\n",
              "\n",
              "        async function convertToInteractive(key) {\n",
              "          const element = document.querySelector('#df-a908e9de-3821-4e15-984d-f656e6fd1d9a');\n",
              "          const dataTable =\n",
              "            await google.colab.kernel.invokeFunction('convertToInteractive',\n",
              "                                                     [key], {});\n",
              "          if (!dataTable) return;\n",
              "\n",
              "          const docLinkHtml = 'Like what you see? Visit the ' +\n",
              "            '<a target=\"_blank\" href=https://colab.research.google.com/notebooks/data_table.ipynb>data table notebook</a>'\n",
              "            + ' to learn more about interactive tables.';\n",
              "          element.innerHTML = '';\n",
              "          dataTable['output_type'] = 'display_data';\n",
              "          await google.colab.output.renderOutput(dataTable, element);\n",
              "          const docLink = document.createElement('div');\n",
              "          docLink.innerHTML = docLinkHtml;\n",
              "          element.appendChild(docLink);\n",
              "        }\n",
              "      </script>\n",
              "    </div>\n",
              "  </div>\n",
              "  "
            ]
          },
          "metadata": {},
          "execution_count": 48
        }
      ]
    },
    {
      "cell_type": "code",
      "source": [
        "# Keep data for the last two years\n",
        "data = all_data[all_data[\"year\"] < 2014].copy()\n",
        "data = data.reset_index(drop=True)\n",
        "\n",
        "# Feature transformations\n",
        "data['log_AADT'] = np.log(data[\"AADT\"])\n",
        "data['SEG_LNG'] = data['SEG_LNG'] * 1609                    # mile to m\n",
        "data['log_L'] = np.log(data['SEG_LNG'])\n",
        "data['MED_dummy'] = [1 if m > 10 else 0 for m in data.MEDWID.values]\n",
        "data['LSW_dummy'] = [1 if m > 0 else 0 for m in data.LSHLDWID.values]\n",
        "data['RSW_dummy'] = [1 if m > 0 else 0 for m in data.RSHLDWID.values]\n",
        "\n",
        "# Terrain_one_hot = pd.get_dummies(data.TERRAIN, prefix='TERRAIN')\n",
        "# data[Terrain_one_hot.columns.to_list()] = Terrain_one_hot\n",
        "\n",
        "\n",
        "# Split train and test data sets\n",
        "seed = 50\n",
        "random.seed(50)\n",
        "np.random.seed(50)\n",
        "\n",
        "test_ids = random.sample(set(data['ID'].unique()), 585)\n",
        "train_data_all = data.loc[~data['ID'].isin(test_ids)].copy()\n",
        "test_data = data.loc[data['ID'].isin(test_ids)].copy()\n",
        "\n",
        "data[['LSHLDWID','MEDWID','RSHLDWID','AADT', 'SEG_LNG', 'FI']].describe().round(2)"
      ],
      "metadata": {
        "colab": {
          "base_uri": "https://localhost:8080/",
          "height": 300
        },
        "id": "ZA2FQSc_fQaE",
        "outputId": "5f8de1ea-9079-4f6e-8be1-0d201c7abc4f"
      },
      "execution_count": 49,
      "outputs": [
        {
          "output_type": "execute_result",
          "data": {
            "text/plain": [
              "       LSHLDWID   MEDWID  RSHLDWID       AADT  SEG_LNG       FI\n",
              "count   6170.00  6170.00   6170.00    6170.00  6170.00  6170.00\n",
              "mean       2.15    40.07      8.55   44440.86   134.75     0.21\n",
              "std        2.47    41.61      3.55   26958.45   190.94     0.74\n",
              "min        0.00     2.00      0.00    4328.00    16.09     0.00\n",
              "25%        0.00    16.00     10.00   24315.00    32.18     0.00\n",
              "50%        0.00    40.00     10.00   40808.00    64.36     0.00\n",
              "75%        4.00    48.00     10.00   58206.00   160.90     0.00\n",
              "max       22.00   750.00     24.00  170716.00  3250.18    17.00"
            ],
            "text/html": [
              "\n",
              "  <div id=\"df-f4c8f992-3917-4063-a4ea-5244e81ed112\">\n",
              "    <div class=\"colab-df-container\">\n",
              "      <div>\n",
              "<style scoped>\n",
              "    .dataframe tbody tr th:only-of-type {\n",
              "        vertical-align: middle;\n",
              "    }\n",
              "\n",
              "    .dataframe tbody tr th {\n",
              "        vertical-align: top;\n",
              "    }\n",
              "\n",
              "    .dataframe thead th {\n",
              "        text-align: right;\n",
              "    }\n",
              "</style>\n",
              "<table border=\"1\" class=\"dataframe\">\n",
              "  <thead>\n",
              "    <tr style=\"text-align: right;\">\n",
              "      <th></th>\n",
              "      <th>LSHLDWID</th>\n",
              "      <th>MEDWID</th>\n",
              "      <th>RSHLDWID</th>\n",
              "      <th>AADT</th>\n",
              "      <th>SEG_LNG</th>\n",
              "      <th>FI</th>\n",
              "    </tr>\n",
              "  </thead>\n",
              "  <tbody>\n",
              "    <tr>\n",
              "      <th>count</th>\n",
              "      <td>6170.00</td>\n",
              "      <td>6170.00</td>\n",
              "      <td>6170.00</td>\n",
              "      <td>6170.00</td>\n",
              "      <td>6170.00</td>\n",
              "      <td>6170.00</td>\n",
              "    </tr>\n",
              "    <tr>\n",
              "      <th>mean</th>\n",
              "      <td>2.15</td>\n",
              "      <td>40.07</td>\n",
              "      <td>8.55</td>\n",
              "      <td>44440.86</td>\n",
              "      <td>134.75</td>\n",
              "      <td>0.21</td>\n",
              "    </tr>\n",
              "    <tr>\n",
              "      <th>std</th>\n",
              "      <td>2.47</td>\n",
              "      <td>41.61</td>\n",
              "      <td>3.55</td>\n",
              "      <td>26958.45</td>\n",
              "      <td>190.94</td>\n",
              "      <td>0.74</td>\n",
              "    </tr>\n",
              "    <tr>\n",
              "      <th>min</th>\n",
              "      <td>0.00</td>\n",
              "      <td>2.00</td>\n",
              "      <td>0.00</td>\n",
              "      <td>4328.00</td>\n",
              "      <td>16.09</td>\n",
              "      <td>0.00</td>\n",
              "    </tr>\n",
              "    <tr>\n",
              "      <th>25%</th>\n",
              "      <td>0.00</td>\n",
              "      <td>16.00</td>\n",
              "      <td>10.00</td>\n",
              "      <td>24315.00</td>\n",
              "      <td>32.18</td>\n",
              "      <td>0.00</td>\n",
              "    </tr>\n",
              "    <tr>\n",
              "      <th>50%</th>\n",
              "      <td>0.00</td>\n",
              "      <td>40.00</td>\n",
              "      <td>10.00</td>\n",
              "      <td>40808.00</td>\n",
              "      <td>64.36</td>\n",
              "      <td>0.00</td>\n",
              "    </tr>\n",
              "    <tr>\n",
              "      <th>75%</th>\n",
              "      <td>4.00</td>\n",
              "      <td>48.00</td>\n",
              "      <td>10.00</td>\n",
              "      <td>58206.00</td>\n",
              "      <td>160.90</td>\n",
              "      <td>0.00</td>\n",
              "    </tr>\n",
              "    <tr>\n",
              "      <th>max</th>\n",
              "      <td>22.00</td>\n",
              "      <td>750.00</td>\n",
              "      <td>24.00</td>\n",
              "      <td>170716.00</td>\n",
              "      <td>3250.18</td>\n",
              "      <td>17.00</td>\n",
              "    </tr>\n",
              "  </tbody>\n",
              "</table>\n",
              "</div>\n",
              "      <button class=\"colab-df-convert\" onclick=\"convertToInteractive('df-f4c8f992-3917-4063-a4ea-5244e81ed112')\"\n",
              "              title=\"Convert this dataframe to an interactive table.\"\n",
              "              style=\"display:none;\">\n",
              "        \n",
              "  <svg xmlns=\"http://www.w3.org/2000/svg\" height=\"24px\"viewBox=\"0 0 24 24\"\n",
              "       width=\"24px\">\n",
              "    <path d=\"M0 0h24v24H0V0z\" fill=\"none\"/>\n",
              "    <path d=\"M18.56 5.44l.94 2.06.94-2.06 2.06-.94-2.06-.94-.94-2.06-.94 2.06-2.06.94zm-11 1L8.5 8.5l.94-2.06 2.06-.94-2.06-.94L8.5 2.5l-.94 2.06-2.06.94zm10 10l.94 2.06.94-2.06 2.06-.94-2.06-.94-.94-2.06-.94 2.06-2.06.94z\"/><path d=\"M17.41 7.96l-1.37-1.37c-.4-.4-.92-.59-1.43-.59-.52 0-1.04.2-1.43.59L10.3 9.45l-7.72 7.72c-.78.78-.78 2.05 0 2.83L4 21.41c.39.39.9.59 1.41.59.51 0 1.02-.2 1.41-.59l7.78-7.78 2.81-2.81c.8-.78.8-2.07 0-2.86zM5.41 20L4 18.59l7.72-7.72 1.47 1.35L5.41 20z\"/>\n",
              "  </svg>\n",
              "      </button>\n",
              "      \n",
              "  <style>\n",
              "    .colab-df-container {\n",
              "      display:flex;\n",
              "      flex-wrap:wrap;\n",
              "      gap: 12px;\n",
              "    }\n",
              "\n",
              "    .colab-df-convert {\n",
              "      background-color: #E8F0FE;\n",
              "      border: none;\n",
              "      border-radius: 50%;\n",
              "      cursor: pointer;\n",
              "      display: none;\n",
              "      fill: #1967D2;\n",
              "      height: 32px;\n",
              "      padding: 0 0 0 0;\n",
              "      width: 32px;\n",
              "    }\n",
              "\n",
              "    .colab-df-convert:hover {\n",
              "      background-color: #E2EBFA;\n",
              "      box-shadow: 0px 1px 2px rgba(60, 64, 67, 0.3), 0px 1px 3px 1px rgba(60, 64, 67, 0.15);\n",
              "      fill: #174EA6;\n",
              "    }\n",
              "\n",
              "    [theme=dark] .colab-df-convert {\n",
              "      background-color: #3B4455;\n",
              "      fill: #D2E3FC;\n",
              "    }\n",
              "\n",
              "    [theme=dark] .colab-df-convert:hover {\n",
              "      background-color: #434B5C;\n",
              "      box-shadow: 0px 1px 3px 1px rgba(0, 0, 0, 0.15);\n",
              "      filter: drop-shadow(0px 1px 2px rgba(0, 0, 0, 0.3));\n",
              "      fill: #FFFFFF;\n",
              "    }\n",
              "  </style>\n",
              "\n",
              "      <script>\n",
              "        const buttonEl =\n",
              "          document.querySelector('#df-f4c8f992-3917-4063-a4ea-5244e81ed112 button.colab-df-convert');\n",
              "        buttonEl.style.display =\n",
              "          google.colab.kernel.accessAllowed ? 'block' : 'none';\n",
              "\n",
              "        async function convertToInteractive(key) {\n",
              "          const element = document.querySelector('#df-f4c8f992-3917-4063-a4ea-5244e81ed112');\n",
              "          const dataTable =\n",
              "            await google.colab.kernel.invokeFunction('convertToInteractive',\n",
              "                                                     [key], {});\n",
              "          if (!dataTable) return;\n",
              "\n",
              "          const docLinkHtml = 'Like what you see? Visit the ' +\n",
              "            '<a target=\"_blank\" href=https://colab.research.google.com/notebooks/data_table.ipynb>data table notebook</a>'\n",
              "            + ' to learn more about interactive tables.';\n",
              "          element.innerHTML = '';\n",
              "          dataTable['output_type'] = 'display_data';\n",
              "          await google.colab.output.renderOutput(dataTable, element);\n",
              "          const docLink = document.createElement('div');\n",
              "          docLink.innerHTML = docLinkHtml;\n",
              "          element.appendChild(docLink);\n",
              "        }\n",
              "      </script>\n",
              "    </div>\n",
              "  </div>\n",
              "  "
            ]
          },
          "metadata": {},
          "execution_count": 49
        }
      ]
    },
    {
      "cell_type": "code",
      "source": [
        "ax = data[['LSHLDWID', 'MEDWID', 'RSHLDWID','AADT', 'SEG_LNG', 'FI']].hist(bins = 20, figsize=(10, 8))"
      ],
      "metadata": {
        "colab": {
          "base_uri": "https://localhost:8080/",
          "height": 499
        },
        "id": "skEQ3GDv84Tz",
        "outputId": "51c05f40-231f-4d9b-9807-0e7fafde6cb2"
      },
      "execution_count": 50,
      "outputs": [
        {
          "output_type": "display_data",
          "data": {
            "text/plain": [
              "<Figure size 720x576 with 6 Axes>"
            ],
            "image/png": "[encoded data removed]"
          },
          "metadata": {
            "needs_background": "light"
          }
        }
      ]
    },
    {
      "cell_type": "markdown",
      "source": [
        "# **Fit NB model (Truth)**"
      ],
      "metadata": {
        "id": "IhircY22kNhM"
      }
    },
    {
      "cell_type": "code",
      "source": [
        "x_features = ['MED_dummy','RSW_dummy','log_AADT', 'log_L']\n",
        "significant_features = nbeb.backward_regression(data, x_features, \n",
        "                                            y_name=y_name, threshold_out=0.05, \n",
        "                                            verbose=False)\n",
        "NB_model_true, alpha_true  = nbeb.fitNB(data, significant_features, y_name=y_name)\n",
        "test_pred_true = NB_model_true.predict(sm.add_constant(test_data[significant_features]))\n",
        "\n",
        "print(f\"Dispersion: {alpha_true:0.2f}\")\n",
        "print(NB_model_true.summary2())"
      ],
      "metadata": {
        "colab": {
          "base_uri": "https://localhost:8080/"
        },
        "id": "SU4Kbb77jZZm",
        "outputId": "4efa26d7-f216-4ae3-becf-df51a6ca3709"
      },
      "execution_count": 146,
      "outputs": [
        {
          "output_type": "stream",
          "name": "stdout",
          "text": [
            "Dispersion: 0.94\n",
            "               Results: Generalized linear model\n",
            "================================================================\n",
            "Model:              GLM              AIC:            5317.3598  \n",
            "Link Function:      log              BIC:            -51121.5757\n",
            "Dependent Variable: FI               Log-Likelihood: -2653.7    \n",
            "Date:               2022-07-28 15:51 LL-Null:        -3451.5    \n",
            "No. Observations:   6170             Deviance:       2683.2     \n",
            "Df Model:           4                Pearson chi2:   6.49e+03   \n",
            "Df Residuals:       6165             Scale:          1.0000     \n",
            "Method:             IRLS                                        \n",
            "----------------------------------------------------------------\n",
            "              Coef.   Std.Err.    z     P>|z|   [0.025   0.975] \n",
            "----------------------------------------------------------------\n",
            "const        -20.4131   0.7567 -26.9749 0.0000 -21.8963 -18.9299\n",
            "MED_dummy     -0.6857   0.1084  -6.3225 0.0000  -0.8982  -0.4731\n",
            "RSW_dummy     -0.4213   0.1088  -3.8720 0.0001  -0.6346  -0.2081\n",
            "log_AADT       1.4307   0.0658  21.7360 0.0000   1.3017   1.5597\n",
            "log_L          0.9153   0.0343  26.6802 0.0000   0.8481   0.9825\n",
            "================================================================\n",
            "\n"
          ]
        }
      ]
    },
    {
      "cell_type": "markdown",
      "source": [
        "# **Train CGAN and Fit NB models on Augmented/non-Augmented Data**"
      ],
      "metadata": {
        "id": "bhgJMGEI_z3a"
      }
    },
    {
      "cell_type": "code",
      "source": [
        "# Sample From Train Data\n",
        "sample_siza = 1000\n",
        "x_features = ['MED_dummy','RSW_dummy','log_AADT', 'log_L']\n",
        "\n",
        "train_ids = random.sample(set(train_data_all['ID'].unique()), sample_siza)\n",
        "train_data = train_data_all.loc[train_data_all['ID'].isin(train_ids)].copy().reset_index(drop=True)\n",
        "# display(train_data.describe().round(3))\n",
        "ax2 = train_data[x_features + ['FI']].hist(bins = 10, figsize=(7, 5))"
      ],
      "metadata": {
        "colab": {
          "base_uri": "https://localhost:8080/",
          "height": 336
        },
        "id": "F9_rvR-jBjVQ",
        "outputId": "c8dfe1ca-0b3c-465b-9174-f745b3553a7f"
      },
      "execution_count": 363,
      "outputs": [
        {
          "output_type": "display_data",
          "data": {
            "text/plain": [
              "<Figure size 504x360 with 6 Axes>"
            ],
            "image/png": "[encoded data removed]"
          },
          "metadata": {
            "needs_background": "light"
          }
        }
      ]
    },
    {
      "cell_type": "code",
      "source": [
        "# Fit NB on non-Augmented Sample\n",
        "x_features = ['MED_dummy','RSW_dummy','log_AADT', 'log_L']\n",
        "significant_features = nbeb.backward_regression(train_data, x_features, \n",
        "                                            y_name=y_name, threshold_out=0.05, \n",
        "                                            verbose=False)\n",
        "# significant_features = x_features\n",
        "NB_model, alpha  = nbeb.fitNB(train_data, significant_features, y_name=y_name)\n",
        "test_pred_nonAugmented = NB_model.predict(sm.add_constant(test_data[significant_features]))\n",
        "\n",
        "# Evaluation\n",
        "## predictive metrics on test set\n",
        "mae_non_augmented  = mean_absolute_error(test_pred_true, test_pred_nonAugmented)\n",
        "mape_non_augmented = nbeb.MAPE(test_pred_true.values, test_pred_nonAugmented.values)\n",
        "rmse_non_augmented  = mean_squared_error(test_pred_true, test_pred_nonAugmented)**0.5\n",
        "## accuracy of dispersion\n",
        "mape_alpha_non_augmented = abs(alpha_true - alpha)/alpha_true\n",
        "\n",
        "print(f\"Dispersion: {alpha:0.3f}, MAPE alpha: {mape_alpha_non_augmented}\") \n",
        "print(f\"MAE: {mae_non_augmented:0.3f}, RMSE: {rmse_non_augmented:0.3f}, MAPE: {mape_non_augmented:0.3f}\")\n",
        "print(NB_model.summary2())"
      ],
      "metadata": {
        "colab": {
          "base_uri": "https://localhost:8080/"
        },
        "id": "KnDu3Pe7LAr6",
        "outputId": "22c6ed87-45ce-4b17-9797-ed61c500204b"
      },
      "execution_count": 364,
      "outputs": [
        {
          "output_type": "stream",
          "name": "stdout",
          "text": [
            "Dispersion: 0.746, MAPE alpha: 0.2050180635513207\n",
            "MAE: 0.030, RMSE: 0.080, MAPE: 0.150\n",
            "               Results: Generalized linear model\n",
            "================================================================\n",
            "Model:              GLM              AIC:            1762.6746  \n",
            "Link Function:      log              BIC:            -14262.8682\n",
            "Dependent Variable: FI               Log-Likelihood: -877.34    \n",
            "Date:               2022-07-28 18:07 LL-Null:        -1195.7    \n",
            "No. Observations:   2000             Deviance:       908.53     \n",
            "Df Model:           3                Pearson chi2:   2.19e+03   \n",
            "Df Residuals:       1996             Scale:          1.0000     \n",
            "Method:             IRLS                                        \n",
            "----------------------------------------------------------------\n",
            "              Coef.   Std.Err.    z     P>|z|   [0.025   0.975] \n",
            "----------------------------------------------------------------\n",
            "const        -22.6218   1.3094 -17.2767 0.0000 -25.1881 -20.0554\n",
            "MED_dummy     -0.7628   0.1710  -4.4606 0.0000  -1.0980  -0.4276\n",
            "log_AADT       1.6368   0.1147  14.2685 0.0000   1.4119   1.8616\n",
            "log_L          0.8382   0.0558  15.0222 0.0000   0.7288   0.9475\n",
            "================================================================\n",
            "\n"
          ]
        }
      ]
    },
    {
      "cell_type": "code",
      "source": [
        "gen_lr, dis_lr, gen_dec, dis_dec, n_epochs, n_batch = 0.001, 0.001, 0, 0, 1000, int(100) \n",
        "\n",
        "# train data\n",
        "x_train = train_data[x_features].copy()\n",
        "y_train = train_data[y_name].copy()\n",
        "# create the discriminator\n",
        "d_model = define_discriminator()\n",
        "# create the generator\n",
        "g_model = define_generator(latent_dim)\n",
        "# create the gan\n",
        "gan_model = define_gan(g_model, d_model)\n",
        "# load data\n",
        "dataset = load_real_samples(x_train,y_train)\n",
        "# find empirical distribution for crash count\n",
        "n, max = len(dataset[1]), dataset[1].max()+1\n",
        "prob = np.array([1/n if np.count_nonzero(dataset[1]==i)==0 else np.count_nonzero(dataset[1]==i)/n for i in range(max)])\n",
        "prob /= sum(prob)  # fixing prob sum to be 1\n",
        "\n",
        "\n",
        "# # train model\n",
        "d1_hist, d2_hist, g_hist = train(g_model, d_model, gan_model, dataset, latent_dim, n_epochs, n_batch)"
      ],
      "metadata": {
        "id": "-gY-qzLdE9Zl",
        "colab": {
          "base_uri": "https://localhost:8080/",
          "height": 622
        },
        "outputId": "389392db-f12b-4e6b-c6e8-82a6038f825e"
      },
      "execution_count": 372,
      "outputs": [
        {
          "output_type": "stream",
          "name": "stdout",
          "text": [
            ">Accuracy real: 12%, fake: 66%\n",
            "WARNING:tensorflow:Compiled the loaded model, but the compiled metrics have yet to be built. `model.compile_metrics` will be empty until you train or evaluate the model.\n"
          ]
        },
        {
          "output_type": "stream",
          "name": "stderr",
          "text": [
            "WARNING:tensorflow:Compiled the loaded model, but the compiled metrics have yet to be built. `model.compile_metrics` will be empty until you train or evaluate the model.\n"
          ]
        },
        {
          "output_type": "stream",
          "name": "stdout",
          "text": [
            "Epoch: 200, dLoss real = 0.696, dLoss fake = 0.696, gLoss = 0.699\n",
            ">Accuracy real: 69%, fake: 20%\n",
            "WARNING:tensorflow:Compiled the loaded model, but the compiled metrics have yet to be built. `model.compile_metrics` will be empty until you train or evaluate the model.\n"
          ]
        },
        {
          "output_type": "stream",
          "name": "stderr",
          "text": [
            "WARNING:tensorflow:Compiled the loaded model, but the compiled metrics have yet to be built. `model.compile_metrics` will be empty until you train or evaluate the model.\n"
          ]
        },
        {
          "output_type": "stream",
          "name": "stdout",
          "text": [
            "Epoch: 400, dLoss real = 0.698, dLoss fake = 0.696, gLoss = 0.693\n",
            ">Accuracy real: 75%, fake: 14%\n",
            "WARNING:tensorflow:Compiled the loaded model, but the compiled metrics have yet to be built. `model.compile_metrics` will be empty until you train or evaluate the model.\n"
          ]
        },
        {
          "output_type": "stream",
          "name": "stderr",
          "text": [
            "WARNING:tensorflow:Compiled the loaded model, but the compiled metrics have yet to be built. `model.compile_metrics` will be empty until you train or evaluate the model.\n"
          ]
        },
        {
          "output_type": "stream",
          "name": "stdout",
          "text": [
            "Epoch: 600, dLoss real = 0.688, dLoss fake = 0.696, gLoss = 0.696\n",
            ">Accuracy real: 22%, fake: 86%\n",
            "WARNING:tensorflow:Compiled the loaded model, but the compiled metrics have yet to be built. `model.compile_metrics` will be empty until you train or evaluate the model.\n"
          ]
        },
        {
          "output_type": "stream",
          "name": "stderr",
          "text": [
            "WARNING:tensorflow:Compiled the loaded model, but the compiled metrics have yet to be built. `model.compile_metrics` will be empty until you train or evaluate the model.\n"
          ]
        },
        {
          "output_type": "stream",
          "name": "stdout",
          "text": [
            "Epoch: 800, dLoss real = 0.690, dLoss fake = 0.709, gLoss = 0.685\n",
            ">Accuracy real: 58%, fake: 52%\n",
            "WARNING:tensorflow:Compiled the loaded model, but the compiled metrics have yet to be built. `model.compile_metrics` will be empty until you train or evaluate the model.\n"
          ]
        },
        {
          "output_type": "stream",
          "name": "stderr",
          "text": [
            "WARNING:tensorflow:Compiled the loaded model, but the compiled metrics have yet to be built. `model.compile_metrics` will be empty until you train or evaluate the model.\n"
          ]
        },
        {
          "output_type": "stream",
          "name": "stdout",
          "text": [
            "Epoch: 1000, dLoss real = 0.709, dLoss fake = 0.686, gLoss = 0.710\n"
          ]
        },
        {
          "output_type": "display_data",
          "data": {
            "text/plain": [
              "<Figure size 432x288 with 1 Axes>"
            ],
            "image/png": "[encoded data removed]"
          },
          "metadata": {
            "needs_background": "light"
          }
        }
      ]
    },
    {
      "cell_type": "code",
      "source": [
        "# load GAN model\n",
        "model_path = '/content/drive/MyDrive/GAN_regression/ganRegression/CGAN_augment_models/'\n",
        "model = load_model(model_path + 'WA_generator_model_800.h5')\n",
        "dataset = load_real_samples(x_train, y_train)\n",
        "\n",
        "# generate latent points\n",
        "latent_points = generate_latent_points(latent_dim, 4000-sample_siza*2)\n",
        "# generate samples\n",
        "Fake_data = model.predict(latent_points)\n",
        "fake = pd.DataFrame(Fake_data, columns=x_features)\n",
        "fake[y_name] = latent_points[1]\n",
        "fake['MED_dummy'] =  [1 if m > 0.5 else 0 for m in fake.MED_dummy.values]\n",
        "fake['RSW_dummy'] =  [1 if m > 0.5 else 0 for m in fake.RSW_dummy.values]\n",
        "\n",
        "\n",
        "## NB model with real and fake data\n",
        "# Find significant features\n",
        "concat_data = pd.concat([train_data, fake])\n",
        "x_train_augmented = concat_data[x_features]\n",
        "y_train_augmented = concat_data[y_name]\n",
        "significant_features = nbeb.forward_regression(concat_data, x_features, y_name=y_name, threshold_in=0.05, verbose=False) \n",
        "\n",
        "NB_model_augmented, alpha_augmented = nbeb.fitNB(concat_data, significant_features, y_name=y_name)\n",
        "\n",
        "test_pred_Augmented = NB_model_augmented.predict(sm.add_constant(test_data[significant_features]))\n",
        "\n",
        "# Evaluation\n",
        "## predictive metrics on test set\n",
        "mae_augmented  = mean_absolute_error(test_pred_true, test_pred_Augmented)\n",
        "mape_augmented = nbeb.MAPE(test_pred_true.values, test_pred_Augmented.values)\n",
        "rmse_augmented  = mean_squared_error(test_pred_true, test_pred_Augmented)**0.5\n",
        "## accuracy of dispersion\n",
        "mape_alpha_augmented = abs(alpha_true - alpha_augmented)/alpha_true\n",
        "\n",
        "print(f\"Dispersion: {alpha_augmented:0.3f}, MAPE alpha: {mape_alpha_augmented:0.3f}\") \n",
        "print(f\"MAE: {mae_augmented:0.3f}, RMSE: {rmse_augmented:0.3f}, MAPE: {mape_augmented:0.3f}\")\n",
        "print(NB_model_augmented.summary2())\n"
      ],
      "metadata": {
        "id": "1gq4Q5-nJAFg"
      },
      "execution_count": null,
      "outputs": []
    },
    {
      "cell_type": "code",
      "source": [
        "ax1 = fake[x_features].hist(bins = 15, figsize=(7, 5))\n",
        "ax2 = train_data[x_features].hist(bins = 20, figsize=(7, 5))"
      ],
      "metadata": {
        "colab": {
          "base_uri": "https://localhost:8080/",
          "height": 655
        },
        "id": "aWlfSS_mP8_Z",
        "outputId": "d0e2abfd-eaaf-4a2f-cda9-b14ed2e017c3"
      },
      "execution_count": 374,
      "outputs": [
        {
          "output_type": "display_data",
          "data": {
            "text/plain": [
              "<Figure size 504x360 with 4 Axes>"
            ],
            "image/png": "[encoded data removed]"
          },
          "metadata": {
            "needs_background": "light"
          }
        },
        {
          "output_type": "display_data",
          "data": {
            "text/plain": [
              "<Figure size 504x360 with 4 Axes>"
            ],
            "image/png": "[encoded data removed]"
          },
          "metadata": {
            "needs_background": "light"
          }
        }
      ]
    },
    {
      "cell_type": "code",
      "source": [
        ""
      ],
      "metadata": {
        "id": "3wuDaa9rQMuI"
      },
      "execution_count": null,
      "outputs": []
    }
  ]
}