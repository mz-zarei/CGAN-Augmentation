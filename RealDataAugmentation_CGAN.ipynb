{
  "nbformat": 4,
  "nbformat_minor": 0,
  "metadata": {
    "accelerator": "GPU",
    "colab": {
      "name": "RealDataAugmentation_CGAN.ipynb",
      "provenance": [],
      "collapsed_sections": [
        "z3FYYuCQzCkL"
      ],
      "machine_shape": "hm",
      "mount_file_id": "1nnXDq45t78TUI_cmQhJTRvYp0NzJ_5GL",
      "authorship_tag": "ABX9TyM8PoubLmIPino4pGErtSoS",
      "include_colab_link": true
    },
    "kernelspec": {
      "display_name": "Python 3",
      "name": "python3"
    },
    "language_info": {
      "name": "python"
    }
  },
  "cells": [
    {
      "cell_type": "markdown",
      "metadata": {
        "id": "view-in-github",
        "colab_type": "text"
      },
      "source": [
        "<a href=\"https://colab.research.google.com/github/mz-zarei/CGAN_Augmentation/blob/main/RealDataAugmentation_CGAN.ipynb\" target=\"_parent\"><img src=\"https://colab.research.google.com/assets/colab-badge.svg\" alt=\"Open In Colab\"/></a>"
      ]
    },
    {
      "cell_type": "markdown",
      "metadata": {
        "id": "fId6iYAExoZ5"
      },
      "source": [
        "# **1-Import Libs**"
      ]
    },
    {
      "cell_type": "code",
      "metadata": {
        "cellView": "code",
        "id": "awBpkel75PlB"
      },
      "source": [
        "import nbeb\n",
        "import importlib\n",
        "import numpy as np\n",
        "import random\n",
        "import seaborn as sns\n",
        "import pandas as pd\n",
        "from sklearn.model_selection import train_test_split\n",
        "import matplotlib.pyplot as plt\n",
        "from sklearn.preprocessing import StandardScaler, MinMaxScaler\n",
        "from scipy.stats import kendalltau, pearsonr, spearmanr\n",
        "from numpy import expand_dims\n",
        "from numpy import zeros\n",
        "from numpy import ones\n",
        "from numpy import vstack\n",
        "from numpy.random import randn\n",
        "from numpy.random import randint\n",
        "from keras.datasets.mnist import load_data\n",
        "from tensorflow.keras.optimizers import Adam\n",
        "from keras.models import Sequential\n",
        "from keras.initializers import RandomNormal\n",
        "from keras.layers import Dense\n",
        "from keras.layers import Reshape\n",
        "from keras.layers import Flatten, BatchNormalization\n",
        "from keras.layers import Conv2D, Conv1D\n",
        "from keras.layers import Conv2DTranspose\n",
        "from keras.layers import LeakyReLU, ELU, ReLU, concatenate\n",
        "from keras.layers import Dropout\n",
        "from matplotlib import pyplot\n",
        "from keras import Input, Model\n",
        "import keras\n",
        "from keras.models import load_model\n",
        "from numpy.random import randn\n",
        "from matplotlib import pyplot\n",
        "import statsmodels.api as sm\n",
        "import statsmodels.formula.api as smf\n",
        "from statsmodels.distributions.empirical_distribution import ECDF\n",
        "from sklearn.metrics import mean_absolute_error, mean_squared_error, r2_score\n",
        "import matplotlib.pyplot as plt\n",
        "\n",
        "\n",
        "##################################################################################### GAN training Functions\n",
        "# define the standalone discriminator model\n",
        "def define_discriminator(in_shape=(7,)):\n",
        "    y = Input(shape=(x_size,), dtype='float')\n",
        "    y_output = Dense(100, activation=activation, kernel_initializer=kerner_initializer)(y)\n",
        "\n",
        "    label = Input(shape=(1,))\n",
        "    label_output = Dense(100, activation=activation, kernel_initializer=kerner_initializer)(label)\n",
        "\n",
        "    concat = concatenate([y_output, label_output])\n",
        "    concat = Dense(50, activation=activation, kernel_initializer=kerner_initializer)(concat)\n",
        "    concat = Dense(50, activation=activation, kernel_initializer=kerner_initializer)(concat)\n",
        "    validity = Dense(1, activation=\"sigmoid\", kernel_initializer=random_uniform)(concat)\n",
        "\n",
        "    model = Model(inputs=[y, label], outputs=validity)\n",
        "\n",
        "    # compile model\n",
        "    opt = Adam(learning_rate=dis_lr, beta_1=0.5, decay=dis_dec)\n",
        "    model.compile(loss='binary_crossentropy', optimizer=opt, metrics=['accuracy'])\n",
        "    return model\n",
        "\n",
        "# define the standalone generator model\n",
        "def define_generator(latent_dim, in_shape=1):\n",
        "    y = Input(shape=in_shape, dtype='float')\n",
        "    y_output = Dense(100, activation=activation, kernel_initializer=kerner_initializer)(y)\n",
        "\n",
        "    noise = Input(shape=(latent_dim,))\n",
        "    noise_output = Dense(100, activation=activation, kernel_initializer=kerner_initializer)(noise)\n",
        "\n",
        "    concat = concatenate([y_output, noise_output])\n",
        "\n",
        "    output = Dense(50, activation=activation, kernel_initializer=kerner_initializer)(concat)\n",
        "    output = Dense(50, activation=activation, kernel_initializer=kerner_initializer)(output)\n",
        "    output = Dense(50, activation=activation, kernel_initializer=kerner_initializer)(output)\n",
        "    output = Dense(x_size, activation=\"relu\", kernel_initializer=random_normal)(output)\n",
        "\n",
        "    model = Model(inputs=[noise, y], outputs=output)\n",
        "    return model\n",
        "\n",
        "# define the combined generator and discriminator model, for updating the generator\n",
        "def define_gan(g_model, d_model):\n",
        "    # make weights in the discriminator not trainable\n",
        "    d_model.trainable = False\n",
        "    # get noise and label inputs from generator model\n",
        "    gen_noise, gen_label = g_model.input\n",
        "    # get output from the generator model\n",
        "    gen_output = g_model.output\n",
        "    # connect output and label input from generator as inputs to discriminator\n",
        "    gan_output = d_model([gen_output, gen_label])\n",
        "    # define gan model as taking noise and label and outputting a classification\n",
        "    model = Model([gen_noise, gen_label], gan_output)\n",
        "    # compile model\n",
        "    opt = Adam(learning_rate=gen_lr, beta_1=0.5, decay=gen_dec)\n",
        "    model.compile(loss='binary_crossentropy', optimizer=opt)\n",
        "    return model\n",
        "\n",
        "# load and prepare training set\n",
        "def load_real_samples(x_train,y_train):\n",
        "\n",
        "    trainX = x_train.to_numpy()\n",
        "    trainY = y_train.to_numpy()\n",
        "\n",
        "    return [trainX, trainY]\n",
        "\n",
        "# select real samples\n",
        "def generate_real_samples(dataset, n_samples):\n",
        "    # choose random instances\n",
        "    ix = randint(0, dataset[0].shape[0], n_samples)\n",
        "    # retrieve selected images\n",
        "    X, labels = dataset[0][ix], dataset[1][ix]\n",
        "    # generate 'real' class labels (1)\n",
        "    y = ones((n_samples, 1))\n",
        "    return [X, labels], y\n",
        "\n",
        "# generate emipircal distribution of real y samples\n",
        "def generate_y_labels(y_train, size):\n",
        "    y_train = y_train.tolist()\n",
        "\n",
        "    min_y = min(y_train)\n",
        "    max_y = max(y_train)\n",
        "\n",
        "    y_list = range(min_y, max_y+1)\n",
        "    y_prob_list = []\n",
        "\n",
        "\n",
        "    for y in y_list:\n",
        "        y_prob = y_train.count(y)/len(y_train)\n",
        "        y_prob_list.append(y_prob)\n",
        "\n",
        "    for i, prob in enumerate(y_prob_list):\n",
        "        if prob == 0:\n",
        "            y_prob_list[i] = y_prob_list[len(y_prob_list)-1]\n",
        "    \n",
        "    y_prob_list_normalized = [float(i)/sum(y_prob_list) for i in y_prob_list]\n",
        "\n",
        "\n",
        "    sample_label = np.random.choice(y_list, size=size, p=y_prob_list_normalized)\n",
        "    return sample_label\n",
        "\n",
        "\n",
        "\n",
        "\n",
        "# generate points in latent space as input for the generator\n",
        "def generate_latent_points(latent_dim, n_samples):\n",
        "    # generate points in the latent space\n",
        "    x_input = randn(latent_dim * n_samples) #randn(latent_dim * n_samples)\n",
        "    # reshape into a batch of inputs for the network\n",
        "    z_input = x_input.reshape(n_samples, latent_dim)\n",
        "    # generate labels\n",
        "    idx = np.random.randint(0, x_train1.shape[0], n_samples)\n",
        "    labels = dataset[1][idx]\n",
        "    return [z_input, labels]\n",
        "\n",
        "# use the generator to generate n fake examples, with class labels\n",
        "def generate_fake_samples(generator, latent_dim, n_samples):\n",
        "    # generate points in latent space\n",
        "    z_input, labels_input = generate_latent_points(latent_dim, n_samples)\n",
        "    # predict outputs\n",
        "    samples = generator.predict([z_input, labels_input])\n",
        "    # create class labels\n",
        "    y = zeros((n_samples, 1))\n",
        "    return [samples, labels_input], y\n",
        "\n",
        "# create a line plot of loss for the gan and save to file\n",
        "def plot_history(d1_hist, d2_hist, g_hist):\n",
        "    # plot history\n",
        "    pyplot.plot(d1_hist, label='Dis loss real')\n",
        "    pyplot.plot(d2_hist, label='Dis loss fake')\n",
        "    pyplot.plot(g_hist, label='Gen loss')\n",
        "    pyplot.legend()\n",
        "    pyplot.savefig('plot_line_plot_loss.png')\n",
        "\n",
        "# evaluate the discriminator, plot generated images, save generator model\n",
        "def summarize_performance(epoch, g_model, d_model, dataset, latent_dim, n_samples=100):\n",
        "    # prepare real samples\n",
        "    X_real, y_real = generate_real_samples(dataset, n_samples)\n",
        "    # evaluate discriminator on real examples\n",
        "    _, acc_real = d_model.evaluate(X_real, y_real, verbose=0)\n",
        "    # prepare fake examples\n",
        "    x_fake, y_fake = generate_fake_samples(g_model, latent_dim, n_samples)\n",
        "    # evaluate discriminator on fake examples\n",
        "    _, acc_fake = d_model.evaluate(x_fake, y_fake, verbose=0)\n",
        "    # summarize discriminator performance\n",
        "    print('>Accuracy real: %.0f%%, fake: %.0f%%' % (acc_real*100, acc_fake*100))\n",
        "    # save the generator model tile file\n",
        "    filename = '/content/drive/MyDrive/GAN_regression/ganRegression/CGAN_augment_models/generator_model_%03d.h5' % (epoch + 1)\n",
        "    g_model.save(filename)\n",
        "\n",
        "# train the generator and discriminator\n",
        "def train(g_model, d_model, gan_model, dataset, latent_dim, n_epochs, n_batch):\n",
        "    bat_per_epo = int(dataset[0].shape[0] / n_batch)\n",
        "    half_batch = int(n_batch / 2)\n",
        "    # lists for keeping track of loss\n",
        "    d1_hist, d2_hist, g_hist = list(), list(), list()\n",
        "    # manually enumerate epochs\n",
        "    for i in range(n_epochs):\n",
        "        # enumerate batches over the training set\n",
        "        for j in range(bat_per_epo):\n",
        "            # get randomly selected 'real' samples\n",
        "            [X_real, labels_real], y_real = generate_real_samples(dataset, half_batch)\n",
        "            # update discriminator model weights\n",
        "            d_loss1, _ = d_model.train_on_batch([X_real, labels_real], y_real)\n",
        "            # generate 'fake' examples\n",
        "            [X_fake, labels], y_fake = generate_fake_samples(g_model, latent_dim, half_batch)\n",
        "            # update discriminator model weights\n",
        "            d_loss2, _ = d_model.train_on_batch([X_fake, labels], y_fake)\n",
        "            # prepare points in latent space as input for the generator\n",
        "            [z_input, labels_input] = generate_latent_points(latent_dim, n_batch)\n",
        "            # create inverted labels for the fake samples\n",
        "            y_gan = ones((n_batch, 1))\n",
        "            # update the generator via the discriminator's error\n",
        "            g_loss = gan_model.train_on_batch([z_input, labels_input], y_gan)\n",
        "\n",
        "        d1_hist.append(d_loss1)\n",
        "        d2_hist.append(d_loss2)\n",
        "        g_hist.append(g_loss)\n",
        "        # evaluate the model performance, sometimes\n",
        "        if (i+1) % 500 == 0 and (i+1) > 2000:\n",
        "            summarize_performance(i, g_model, d_model, dataset, latent_dim)\n",
        "            print('Epoch: %d, dLoss real = %.3f, dLoss fake = %.3f, gLoss = %.3f' % (i+1, d_loss1, d_loss2, g_loss))\n",
        "    plot_history(d1_hist, d2_hist, g_hist)\n",
        "    return d1_hist, d2_hist, g_hist\n",
        "\n",
        "\n",
        "\n",
        "\n",
        "seed = 42\n",
        "kerner_initializer = keras.initializers.he_normal(seed=seed)\n",
        "random_uniform = keras.initializers.RandomUniform(seed=seed)\n",
        "random_normal = keras.initializers.RandomNormal(seed=seed)\n",
        "latent_dim, x_size = 2, 2\n",
        "activation = \"elu\""
      ],
      "execution_count": null,
      "outputs": []
    },
    {
      "cell_type": "markdown",
      "metadata": {
        "id": "CNK8w3Dn5HPJ"
      },
      "source": [
        "# **2- Prepare Test Train Crash Data**"
      ]
    },
    {
      "cell_type": "code",
      "metadata": {
        "id": "qMB1I7im5GDp",
        "colab": {
          "base_uri": "https://localhost:8080/"
        },
        "outputId": "aecbee66-75b8-409d-8401-4d21aaa7870a"
      },
      "source": [
        "\n",
        "London_Data = pd.read_excel('/content/London_Python_Data.xlsx')\n",
        "London_Data = London_Data[(London_Data['Year']==2017) & (London_Data['Group']== 3)]\n",
        "#Shuffling the data\n",
        "London_Data = London_Data.sample(frac = 1).reset_index()\n",
        "London_Data['Log_Fmin'] = np.log(London_Data['Fmin'])\n",
        "London_Data['Log_Fmaj'] = np.log(London_Data['Fmaj'])\n",
        "\n",
        "x_columns = ['Log_Fmin', 'Log_Fmaj']\n",
        "test_data = London_Data[:100].reset_index()\n",
        "y_test = test_data['Obs']\n",
        "x_test = test_data[x_columns]\n",
        "\n",
        "\n",
        "CrashData = London_Data[100:].reset_index()\n",
        "\n",
        "ax = plt.hist(CrashData['Obs'])\n",
        "CrashData.head()\n"
      ],
      "execution_count": null,
      "outputs": [
        {
          "output_type": "execute_result",
          "data": {
            "text/html": [
              "<div>\n",
              "<style scoped>\n",
              "    .dataframe tbody tr th:only-of-type {\n",
              "        vertical-align: middle;\n",
              "    }\n",
              "\n",
              "    .dataframe tbody tr th {\n",
              "        vertical-align: top;\n",
              "    }\n",
              "\n",
              "    .dataframe thead th {\n",
              "        text-align: right;\n",
              "    }\n",
              "</style>\n",
              "<table border=\"1\" class=\"dataframe\">\n",
              "  <thead>\n",
              "    <tr style=\"text-align: right;\">\n",
              "      <th></th>\n",
              "      <th>level_0</th>\n",
              "      <th>index</th>\n",
              "      <th>Geo_ID</th>\n",
              "      <th>Name</th>\n",
              "      <th>Group</th>\n",
              "      <th>Year</th>\n",
              "      <th>Fmaj</th>\n",
              "      <th>Fmin</th>\n",
              "      <th>Ftot</th>\n",
              "      <th>Fatal</th>\n",
              "      <th>Non-fatal</th>\n",
              "      <th>PDO</th>\n",
              "      <th>FI</th>\n",
              "      <th>Obs</th>\n",
              "      <th>Log_Fmin</th>\n",
              "      <th>Log_Fmaj</th>\n",
              "    </tr>\n",
              "  </thead>\n",
              "  <tbody>\n",
              "    <tr>\n",
              "      <th>0</th>\n",
              "      <td>100</td>\n",
              "      <td>6540</td>\n",
              "      <td>INT2641</td>\n",
              "      <td>RAILTON AVE @ SADDY AVE/BOURNEMOUTH DR</td>\n",
              "      <td>3</td>\n",
              "      <td>2017</td>\n",
              "      <td>1870.0</td>\n",
              "      <td>805.0</td>\n",
              "      <td>2675.0</td>\n",
              "      <td>0</td>\n",
              "      <td>0</td>\n",
              "      <td>0</td>\n",
              "      <td>0</td>\n",
              "      <td>0</td>\n",
              "      <td>6.690842</td>\n",
              "      <td>7.533694</td>\n",
              "    </tr>\n",
              "    <tr>\n",
              "      <th>1</th>\n",
              "      <td>101</td>\n",
              "      <td>6372</td>\n",
              "      <td>INT3544</td>\n",
              "      <td>NELSON ST @ WILLIAM ST</td>\n",
              "      <td>3</td>\n",
              "      <td>2017</td>\n",
              "      <td>2984.0</td>\n",
              "      <td>870.0</td>\n",
              "      <td>3854.0</td>\n",
              "      <td>0</td>\n",
              "      <td>0</td>\n",
              "      <td>0</td>\n",
              "      <td>0</td>\n",
              "      <td>0</td>\n",
              "      <td>6.768493</td>\n",
              "      <td>8.001020</td>\n",
              "    </tr>\n",
              "    <tr>\n",
              "      <th>2</th>\n",
              "      <td>102</td>\n",
              "      <td>8250</td>\n",
              "      <td>INT3241</td>\n",
              "      <td>MAITLAND ST@SIMCOE ST</td>\n",
              "      <td>3</td>\n",
              "      <td>2017</td>\n",
              "      <td>703.0</td>\n",
              "      <td>396.0</td>\n",
              "      <td>1099.0</td>\n",
              "      <td>0</td>\n",
              "      <td>0</td>\n",
              "      <td>2</td>\n",
              "      <td>0</td>\n",
              "      <td>2</td>\n",
              "      <td>5.981414</td>\n",
              "      <td>6.555357</td>\n",
              "    </tr>\n",
              "    <tr>\n",
              "      <th>3</th>\n",
              "      <td>103</td>\n",
              "      <td>8121</td>\n",
              "      <td>INT2649</td>\n",
              "      <td>ARGYLE ST @ EMPRESS AVE</td>\n",
              "      <td>3</td>\n",
              "      <td>2017</td>\n",
              "      <td>613.0</td>\n",
              "      <td>433.0</td>\n",
              "      <td>1046.0</td>\n",
              "      <td>0</td>\n",
              "      <td>0</td>\n",
              "      <td>0</td>\n",
              "      <td>0</td>\n",
              "      <td>0</td>\n",
              "      <td>6.070738</td>\n",
              "      <td>6.418365</td>\n",
              "    </tr>\n",
              "    <tr>\n",
              "      <th>4</th>\n",
              "      <td>104</td>\n",
              "      <td>9204</td>\n",
              "      <td>INT3635</td>\n",
              "      <td>CLARENCE ST @ HILL ST</td>\n",
              "      <td>3</td>\n",
              "      <td>2017</td>\n",
              "      <td>370.0</td>\n",
              "      <td>137.0</td>\n",
              "      <td>507.0</td>\n",
              "      <td>0</td>\n",
              "      <td>0</td>\n",
              "      <td>0</td>\n",
              "      <td>0</td>\n",
              "      <td>0</td>\n",
              "      <td>4.919981</td>\n",
              "      <td>5.913503</td>\n",
              "    </tr>\n",
              "  </tbody>\n",
              "</table>\n",
              "</div>"
            ],
            "text/plain": [
              "   level_0  index   Geo_ID  ... Obs  Log_Fmin  Log_Fmaj\n",
              "0      100   6540  INT2641  ...   0  6.690842  7.533694\n",
              "1      101   6372  INT3544  ...   0  6.768493  8.001020\n",
              "2      102   8250  INT3241  ...   2  5.981414  6.555357\n",
              "3      103   8121  INT2649  ...   0  6.070738  6.418365\n",
              "4      104   9204  INT3635  ...   0  4.919981  5.913503\n",
              "\n",
              "[5 rows x 16 columns]"
            ]
          },
          "metadata": {},
          "execution_count": 87
        },
        {
          "output_type": "display_data",
          "data": {
            "image/png": "[encoded data removed]",
            "text/plain": [
              "<Figure size 432x288 with 1 Axes>"
            ]
          },
          "metadata": {
            "needs_background": "light"
          }
        }
      ]
    },
    {
      "cell_type": "code",
      "metadata": {
        "colab": {
          "base_uri": "https://localhost:8080/",
          "height": 300
        },
        "id": "4A-fJnNO4LrM",
        "outputId": "0d475d89-b55b-4301-9f8a-6c8ff34c331e"
      },
      "source": [
        "London_Data.describe()"
      ],
      "execution_count": null,
      "outputs": [
        {
          "output_type": "execute_result",
          "data": {
            "text/html": [
              "<div>\n",
              "<style scoped>\n",
              "    .dataframe tbody tr th:only-of-type {\n",
              "        vertical-align: middle;\n",
              "    }\n",
              "\n",
              "    .dataframe tbody tr th {\n",
              "        vertical-align: top;\n",
              "    }\n",
              "\n",
              "    .dataframe thead th {\n",
              "        text-align: right;\n",
              "    }\n",
              "</style>\n",
              "<table border=\"1\" class=\"dataframe\">\n",
              "  <thead>\n",
              "    <tr style=\"text-align: right;\">\n",
              "      <th></th>\n",
              "      <th>index</th>\n",
              "      <th>Group</th>\n",
              "      <th>Year</th>\n",
              "      <th>Fmaj</th>\n",
              "      <th>Fmin</th>\n",
              "      <th>Ftot</th>\n",
              "      <th>Fatal</th>\n",
              "      <th>Non-fatal</th>\n",
              "      <th>PDO</th>\n",
              "      <th>FI</th>\n",
              "      <th>Obs</th>\n",
              "      <th>Log_Fmin</th>\n",
              "      <th>Log_Fmaj</th>\n",
              "    </tr>\n",
              "  </thead>\n",
              "  <tbody>\n",
              "    <tr>\n",
              "      <th>count</th>\n",
              "      <td>200.000000</td>\n",
              "      <td>200.0</td>\n",
              "      <td>200.0</td>\n",
              "      <td>200.000000</td>\n",
              "      <td>200.000000</td>\n",
              "      <td>200.00000</td>\n",
              "      <td>200.0</td>\n",
              "      <td>200.000000</td>\n",
              "      <td>200.000000</td>\n",
              "      <td>200.000000</td>\n",
              "      <td>200.000000</td>\n",
              "      <td>200.000000</td>\n",
              "      <td>200.000000</td>\n",
              "    </tr>\n",
              "    <tr>\n",
              "      <th>mean</th>\n",
              "      <td>6118.425000</td>\n",
              "      <td>3.0</td>\n",
              "      <td>2017.0</td>\n",
              "      <td>7454.760000</td>\n",
              "      <td>1321.730000</td>\n",
              "      <td>8776.49000</td>\n",
              "      <td>0.0</td>\n",
              "      <td>0.220000</td>\n",
              "      <td>0.915000</td>\n",
              "      <td>0.220000</td>\n",
              "      <td>1.135000</td>\n",
              "      <td>6.779492</td>\n",
              "      <td>8.189054</td>\n",
              "    </tr>\n",
              "    <tr>\n",
              "      <th>std</th>\n",
              "      <td>2009.935981</td>\n",
              "      <td>0.0</td>\n",
              "      <td>0.0</td>\n",
              "      <td>9172.707384</td>\n",
              "      <td>1188.224192</td>\n",
              "      <td>9392.64036</td>\n",
              "      <td>0.0</td>\n",
              "      <td>0.550559</td>\n",
              "      <td>1.366423</td>\n",
              "      <td>0.550559</td>\n",
              "      <td>1.667537</td>\n",
              "      <td>1.003524</td>\n",
              "      <td>1.278557</td>\n",
              "    </tr>\n",
              "    <tr>\n",
              "      <th>min</th>\n",
              "      <td>1579.000000</td>\n",
              "      <td>3.0</td>\n",
              "      <td>2017.0</td>\n",
              "      <td>170.000000</td>\n",
              "      <td>7.000000</td>\n",
              "      <td>309.00000</td>\n",
              "      <td>0.0</td>\n",
              "      <td>0.000000</td>\n",
              "      <td>0.000000</td>\n",
              "      <td>0.000000</td>\n",
              "      <td>0.000000</td>\n",
              "      <td>1.945910</td>\n",
              "      <td>5.135798</td>\n",
              "    </tr>\n",
              "    <tr>\n",
              "      <th>25%</th>\n",
              "      <td>4503.250000</td>\n",
              "      <td>3.0</td>\n",
              "      <td>2017.0</td>\n",
              "      <td>1448.750000</td>\n",
              "      <td>490.500000</td>\n",
              "      <td>2070.25000</td>\n",
              "      <td>0.0</td>\n",
              "      <td>0.000000</td>\n",
              "      <td>0.000000</td>\n",
              "      <td>0.000000</td>\n",
              "      <td>0.000000</td>\n",
              "      <td>6.195424</td>\n",
              "      <td>7.278456</td>\n",
              "    </tr>\n",
              "    <tr>\n",
              "      <th>50%</th>\n",
              "      <td>6147.500000</td>\n",
              "      <td>3.0</td>\n",
              "      <td>2017.0</td>\n",
              "      <td>3070.500000</td>\n",
              "      <td>955.000000</td>\n",
              "      <td>4685.00000</td>\n",
              "      <td>0.0</td>\n",
              "      <td>0.000000</td>\n",
              "      <td>0.000000</td>\n",
              "      <td>0.000000</td>\n",
              "      <td>1.000000</td>\n",
              "      <td>6.861698</td>\n",
              "      <td>8.029595</td>\n",
              "    </tr>\n",
              "    <tr>\n",
              "      <th>75%</th>\n",
              "      <td>7834.250000</td>\n",
              "      <td>3.0</td>\n",
              "      <td>2017.0</td>\n",
              "      <td>10329.250000</td>\n",
              "      <td>1847.500000</td>\n",
              "      <td>12668.25000</td>\n",
              "      <td>0.0</td>\n",
              "      <td>0.000000</td>\n",
              "      <td>1.000000</td>\n",
              "      <td>0.000000</td>\n",
              "      <td>2.000000</td>\n",
              "      <td>7.521588</td>\n",
              "      <td>9.242725</td>\n",
              "    </tr>\n",
              "    <tr>\n",
              "      <th>max</th>\n",
              "      <td>9505.000000</td>\n",
              "      <td>3.0</td>\n",
              "      <td>2017.0</td>\n",
              "      <td>45691.000000</td>\n",
              "      <td>6195.000000</td>\n",
              "      <td>45952.00000</td>\n",
              "      <td>0.0</td>\n",
              "      <td>3.000000</td>\n",
              "      <td>10.000000</td>\n",
              "      <td>3.000000</td>\n",
              "      <td>11.000000</td>\n",
              "      <td>8.731498</td>\n",
              "      <td>10.729657</td>\n",
              "    </tr>\n",
              "  </tbody>\n",
              "</table>\n",
              "</div>"
            ],
            "text/plain": [
              "             index  Group    Year  ...         Obs    Log_Fmin    Log_Fmaj\n",
              "count   200.000000  200.0   200.0  ...  200.000000  200.000000  200.000000\n",
              "mean   6118.425000    3.0  2017.0  ...    1.135000    6.779492    8.189054\n",
              "std    2009.935981    0.0     0.0  ...    1.667537    1.003524    1.278557\n",
              "min    1579.000000    3.0  2017.0  ...    0.000000    1.945910    5.135798\n",
              "25%    4503.250000    3.0  2017.0  ...    0.000000    6.195424    7.278456\n",
              "50%    6147.500000    3.0  2017.0  ...    1.000000    6.861698    8.029595\n",
              "75%    7834.250000    3.0  2017.0  ...    2.000000    7.521588    9.242725\n",
              "max    9505.000000    3.0  2017.0  ...   11.000000    8.731498   10.729657\n",
              "\n",
              "[8 rows x 13 columns]"
            ]
          },
          "metadata": {},
          "execution_count": 4
        }
      ]
    },
    {
      "cell_type": "markdown",
      "metadata": {
        "id": "y6T-sYJr5_qZ"
      },
      "source": [
        "# **3-Train GAN**"
      ]
    },
    {
      "cell_type": "code",
      "metadata": {
        "colab": {
          "base_uri": "https://localhost:8080/",
          "height": 616
        },
        "id": "4Fy4SHcK1e6b",
        "outputId": "de1698d6-3fdd-4e84-82df-274477b72ce4"
      },
      "source": [
        "y_train1 = CrashData['Obs']\n",
        "x_train1 = CrashData[x_columns]\n",
        "\n",
        "\n",
        "gen_lr, dis_lr, gen_dec, dis_dec, n_epochs, n_batch = 0.001, 0.001, 0.001, 0, 5000, int(100)  \n",
        "\n",
        "# create the discriminator\n",
        "d_model = define_discriminator()\n",
        "# create the generator\n",
        "g_model = define_generator(latent_dim)\n",
        "# create the gan\n",
        "gan_model = define_gan(g_model, d_model)\n",
        "# load image data\n",
        "dataset = load_real_samples(x_train1,y_train1)\n",
        "# # train model\n",
        "d1_hist, d2_hist, g_hist = train(g_model, d_model, gan_model, dataset, latent_dim, n_epochs, n_batch)"
      ],
      "execution_count": null,
      "outputs": [
        {
          "output_type": "stream",
          "name": "stdout",
          "text": [
            ">Accuracy real: 49%, fake: 63%\n",
            "WARNING:tensorflow:Compiled the loaded model, but the compiled metrics have yet to be built. `model.compile_metrics` will be empty until you train or evaluate the model.\n",
            "Epoch: 2500, dLoss real = 0.693, dLoss fake = 0.700, gLoss = 0.695\n",
            ">Accuracy real: 56%, fake: 38%\n",
            "WARNING:tensorflow:Compiled the loaded model, but the compiled metrics have yet to be built. `model.compile_metrics` will be empty until you train or evaluate the model.\n",
            "Epoch: 3000, dLoss real = 0.695, dLoss fake = 0.695, gLoss = 0.712\n",
            ">Accuracy real: 46%, fake: 54%\n",
            "WARNING:tensorflow:Compiled the loaded model, but the compiled metrics have yet to be built. `model.compile_metrics` will be empty until you train or evaluate the model.\n",
            "Epoch: 3500, dLoss real = 0.695, dLoss fake = 0.711, gLoss = 0.692\n",
            ">Accuracy real: 49%, fake: 45%\n",
            "WARNING:tensorflow:Compiled the loaded model, but the compiled metrics have yet to be built. `model.compile_metrics` will be empty until you train or evaluate the model.\n",
            "Epoch: 4000, dLoss real = 0.691, dLoss fake = 0.699, gLoss = 0.695\n",
            ">Accuracy real: 46%, fake: 46%\n",
            "WARNING:tensorflow:Compiled the loaded model, but the compiled metrics have yet to be built. `model.compile_metrics` will be empty until you train or evaluate the model.\n",
            "Epoch: 4500, dLoss real = 0.686, dLoss fake = 0.700, gLoss = 0.692\n",
            ">Accuracy real: 75%, fake: 37%\n",
            "WARNING:tensorflow:Compiled the loaded model, but the compiled metrics have yet to be built. `model.compile_metrics` will be empty until you train or evaluate the model.\n",
            "Epoch: 5000, dLoss real = 0.694, dLoss fake = 0.692, gLoss = 0.704\n"
          ]
        },
        {
          "output_type": "display_data",
          "data": {
            "image/png": "[encoded data removed]",
            "text/plain": [
              "<Figure size 432x288 with 1 Axes>"
            ]
          },
          "metadata": {
            "needs_background": "light"
          }
        }
      ]
    },
    {
      "cell_type": "markdown",
      "metadata": {
        "id": "iHFlIPNTPXwX"
      },
      "source": [
        "# **4-Fit and Compare NB models**"
      ]
    },
    {
      "cell_type": "markdown",
      "metadata": {
        "id": "dBqW1J-vWQIW"
      },
      "source": [
        "## **Fit NB model with original data size**"
      ]
    },
    {
      "cell_type": "code",
      "metadata": {
        "colab": {
          "base_uri": "https://localhost:8080/"
        },
        "id": "wLjI9g2VoWxv",
        "outputId": "f33d67db-3414-4638-dead-099fba750cd5"
      },
      "source": [
        "## NB model with train data\n",
        "y_train1 = CrashData['Obs']\n",
        "x_train1 = CrashData[x_columns]\n",
        "\n",
        "sig_fit = nbeb.forward_regression(CrashData,x_columns, y_name='Obs')\n",
        "\n",
        "NB_model1, alpha1  = nbeb.fitNB(CrashData, sig_fit, y_name='Obs')\n",
        "\n",
        "y_test_pred_NB1 = NB_model1.predict(sm.add_constant(x_test[sig_fit]))\n",
        "y_pred_NB1 = NB_model1.predict(sm.add_constant(CrashData[sig_fit]))\n",
        "\n",
        "mae_NB1, mape_NB1, r2_NB1 = round(mean_absolute_error(y_test, y_test_pred_NB1),3), round(nbeb.MAPE(y_test.to_numpy(), y_test_pred_NB1),3), round(r2_score(y_test, y_test_pred_NB1),3)\n",
        "\n",
        "print(\"Test Set  --- MAE: \", mae_NB1, \"| MAPE: \", mape_NB1, \"| R2 score: \", r2_NB1, \" | Alpha: \", alpha1)\n",
        "print(NB_model1.summary2())"
      ],
      "execution_count": null,
      "outputs": [
        {
          "output_type": "stream",
          "name": "stdout",
          "text": [
            "Test Set  --- MAE:  1.116 | MAPE:  0.703 | R2 score:  0.149  | Alpha:  0.7789802327441236\n",
            "              Results: Generalized linear model\n",
            "==============================================================\n",
            "Model:              GLM              AIC:            275.5881 \n",
            "Link Function:      log              BIC:            -356.3712\n",
            "Dependent Variable: Obs              Log-Likelihood: -135.79  \n",
            "Date:               2021-11-26 23:49 LL-Null:        -146.71  \n",
            "No. Observations:   100              Deviance:       94.935   \n",
            "Df Model:           1                Pearson chi2:   114.     \n",
            "Df Residuals:       98               Scale:          1.0000   \n",
            "Method:             IRLS                                      \n",
            "---------------------------------------------------------------\n",
            "            Coef.   Std.Err.     z     P>|z|    [0.025   0.975]\n",
            "---------------------------------------------------------------\n",
            "const      -4.7987    1.0615  -4.5207  0.0000  -6.8792  -2.7182\n",
            "Log_Fmaj    0.5764    0.1226   4.7030  0.0000   0.3362   0.8166\n",
            "==============================================================\n",
            "\n"
          ]
        }
      ]
    },
    {
      "cell_type": "markdown",
      "metadata": {
        "id": "m-8AGoG6WWWE"
      },
      "source": [
        "## **Fit NB model with CGAN augmented data size**"
      ]
    },
    {
      "cell_type": "code",
      "metadata": {
        "colab": {
          "base_uri": "https://localhost:8080/"
        },
        "id": "vl_Kswts2_aI",
        "outputId": "83960f80-da7e-40a5-e01c-1398f4e64a58"
      },
      "source": [
        "# load GAN model\n",
        "model_path = '/content/drive/MyDrive/GAN_regression/ganRegression/CGAN_augment_models/'\n",
        "model = load_model(model_path + 'generator_model_5000.h5')\n",
        "dataset = load_real_samples(x_train1, y_train1)\n",
        "\n",
        "# generate samples\n",
        "latent_points = generate_latent_points(latent_dim, 1000)\n",
        "# generate images\n",
        "Fake_data = model.predict(latent_points)\n",
        "fake = pd.DataFrame(Fake_data, columns=x_columns)\n",
        "fake['Obs'] = latent_points[1]\n",
        "\n",
        "\n",
        "## NB model with real and fake data\n",
        "# Find significant features\n",
        "concat_data = pd.concat([CrashData, fake])\n",
        "x_train2 = concat_data[x_columns]\n",
        "y_train2 = concat_data['Obs']\n",
        "significant_features2 = nbeb.forward_regression(concat_data, x_columns, y_name='Obs', threshold_in=0.05, verbose=False) \n",
        "\n",
        "NB_model2, alpha2 = nbeb.fitNB(concat_data, significant_features2, y_name='Obs')\n",
        "\n",
        "y_pred_NB2 = NB_model2.predict(sm.add_constant(x_train1[significant_features2]))\n",
        "y_test_pred_NB2 = NB_model2.predict(sm.add_constant(x_test[significant_features2]))\n",
        "\n",
        "\n",
        "mae_NB2, mape_NB2, r2_NB2 = round(mean_absolute_error(y_test, y_test_pred_NB2),3), round(nbeb.MAPE(y_test.to_numpy(), y_test_pred_NB2),3), round(r2_score(y_test, y_test_pred_NB2),3)\n",
        "print(\"Test Set  --- MAE: \", mae_NB2, \"| MAPE: \", mape_NB2, \"| R2 score: \", r2_NB2, \" | Alpha: \", alpha2)\n",
        "\n",
        "print(NB_model2.summary2())\n",
        "\n",
        "# fake[x_columns].hist(bins=20, figsize = (10,5))"
      ],
      "execution_count": null,
      "outputs": [
        {
          "output_type": "stream",
          "name": "stdout",
          "text": [
            "WARNING:tensorflow:No training configuration found in the save file, so the model was *not* compiled. Compile it manually.\n",
            "Test Set  --- MAE:  1.074 | MAPE:  0.578 | R2 score:  0.104  | Alpha:  0.14738985367468285\n",
            "               Results: Generalized linear model\n",
            "===============================================================\n",
            "Model:              GLM              AIC:            2759.3765 \n",
            "Link Function:      log              BIC:            -6444.4276\n",
            "Dependent Variable: Obs              Log-Likelihood: -1376.7   \n",
            "Date:               2021-11-26 23:52 LL-Null:        -1676.7   \n",
            "No. Observations:   1100             Deviance:       1237.9    \n",
            "Df Model:           2                Pearson chi2:   1.30e+03  \n",
            "Df Residuals:       1097             Scale:          1.0000    \n",
            "Method:             IRLS                                       \n",
            "----------------------------------------------------------------\n",
            "            Coef.   Std.Err.     z      P>|z|    [0.025   0.975]\n",
            "----------------------------------------------------------------\n",
            "const      -5.6884    0.2677  -21.2459  0.0000  -6.2132  -5.1637\n",
            "Log_Fmaj    0.3478    0.0270   12.8855  0.0000   0.2949   0.4007\n",
            "Log_Fmin    0.3646    0.0426    8.5575  0.0000   0.2811   0.4482\n",
            "===============================================================\n",
            "\n"
          ]
        }
      ]
    },
    {
      "cell_type": "code",
      "metadata": {
        "id": "qlh0V1I0q1JG",
        "colab": {
          "base_uri": "https://localhost:8080/"
        },
        "outputId": "1ed8e6f1-1dc5-4747-992b-edf8aa798137"
      },
      "source": [
        "## Statistical tests\n",
        "from scipy import stats\n",
        "\n",
        "for att in ['Log_Fmin', 'Log_Fmaj']:\n",
        "    print(att)\n",
        "    fake_sample = fake[att].sample(30).values\n",
        "    real_sample = London_Data[att].sample(30).values\n",
        "\n",
        "    ## T-test for mean\n",
        "    print(stats.ttest_ind(fake_sample, real_sample))\n",
        "    ## Leven Test for variance\n",
        "    print(stats.levene(fake_sample, real_sample))\n",
        "    ## KS Test for distrbution\n",
        "    print(stats.ks_2samp(fake_sample, real_sample))\n"
      ],
      "execution_count": null,
      "outputs": [
        {
          "output_type": "stream",
          "name": "stdout",
          "text": [
            "Log_Fmin\n",
            "Ttest_indResult(statistic=1.6977488581031432, pvalue=0.09491510226050431)\n",
            "LeveneResult(statistic=1.7471071450881897, pvalue=0.19143066560421115)\n",
            "Ks_2sampResult(statistic=0.23333333333333334, pvalue=0.39294501397971776)\n",
            "Log_Fmaj\n",
            "Ttest_indResult(statistic=0.8772166224613682, pvalue=0.3839881356606516)\n",
            "LeveneResult(statistic=0.19505330953438063, pvalue=0.660385909432809)\n",
            "Ks_2sampResult(statistic=0.13333333333333333, pvalue=0.9578462903438838)\n"
          ]
        }
      ]
    },
    {
      "cell_type": "code",
      "metadata": {
        "colab": {
          "base_uri": "https://localhost:8080/",
          "height": 968
        },
        "id": "P5rH-9Bn8heX",
        "outputId": "7b859307-c817-42d6-9deb-19bc5120ad9f"
      },
      "source": [
        "## Plots\n",
        "import seaborn as sns\n",
        "fake_sample = fake.sample(200)\n",
        "fake_sample['Data Type'] = 'Synthetic'\n",
        "real_sample = London_Data.sample(200)\n",
        "real_sample['Data Type'] = 'Real'\n",
        "\n",
        "data = pd.concat([fake_sample, real_sample]).reset_index(drop=True)\n",
        "data = data[['Log_Fmin', 'Log_Fmaj', 'Data Type']]\n",
        "data.columns = ['Log (minor AADT)', 'Log (major AADT)', 'Data Type']\n",
        "\n",
        "\n",
        "\n",
        "fig, axes = plt.subplots(1,2, figsize=(10,5)) \n",
        "\n",
        "sns.boxplot(data = data, y=\"Log (major AADT)\", x=\"Data Type\", ax = axes[0], palette=\"Set2\");\n",
        "sns.swarmplot(y=\"Log (major AADT)\", x=\"Data Type\", data=data, color=\".55\", ax = axes[0])\n",
        "axes[0].set_ylabel('Log (F_maj)')\n",
        "\n",
        "sns.boxplot(data = data, y=\"Log (minor AADT)\", x=\"Data Type\", ax = axes[1], palette=\"Set2\");\n",
        "sns.swarmplot(y=\"Log (minor AADT)\", x=\"Data Type\", data=data, color=\".55\", ax = axes[1])\n",
        "axes[1].set_ylabel('Log (F_min)')\n",
        "plt.show()\n",
        "plt.close()\n",
        "\n",
        "\n",
        "\n",
        "fig, axes = plt.subplots(1,2, figsize=(10,5)) \n",
        "\n",
        "sns.histplot(data, x='Log (major AADT)', hue='Data Type',cumulative=True, stat=\"density\",element=\"step\", palette=\"Set2\",fill=False, ax = axes[0])\n",
        "sns.histplot(data, x='Log (minor AADT)', hue='Data Type',cumulative=True, stat=\"density\",element=\"step\", palette=\"Set2\",fill=False, ax = axes[1])\n",
        "\n",
        "fig, axes = plt.subplots(1,2, figsize=(10,5)) \n",
        "\n",
        "sns.histplot(data, x='Log (major AADT)', hue='Data Type', ax = axes[0])\n",
        "sns.histplot(data, x='Log (minor AADT)', hue='Data Type', ax = axes[1])\n",
        "\n",
        "\n",
        "fig.savefig('dist.pdf')\n",
        "plt.show()\n",
        "plt.close()"
      ],
      "execution_count": null,
      "outputs": [
        {
          "output_type": "display_data",
          "data": {
            "image/png": "[encoded data removed]",
            "text/plain": [
              "<Figure size 720x360 with 2 Axes>"
            ]
          },
          "metadata": {
            "needs_background": "light"
          }
        },
        {
          "output_type": "display_data",
          "data": {
            "image/png": "[encoded data removed]",
            "text/plain": [
              "<Figure size 720x360 with 2 Axes>"
            ]
          },
          "metadata": {
            "needs_background": "light"
          }
        },
        {
          "output_type": "display_data",
          "data": {
            "image/png": "[encoded data removed]",
            "text/plain": [
              "<Figure size 720x360 with 2 Axes>"
            ]
          },
          "metadata": {
            "needs_background": "light"
          }
        }
      ]
    },
    {
      "cell_type": "code",
      "metadata": {
        "id": "OnAb4HDl_h0h",
        "colab": {
          "base_uri": "https://localhost:8080/"
        },
        "outputId": "618cb72b-b026-4340-8461-99208531ae65"
      },
      "source": [
        "data.columns"
      ],
      "execution_count": null,
      "outputs": [
        {
          "output_type": "execute_result",
          "data": {
            "text/plain": [
              "Index(['Log_Fmin', 'Log_Fmaj', 'Obs', 'Data Type', 'index', 'Geo_ID', 'Name',\n",
              "       'Group', 'Year', 'Fmaj', 'Fmin', 'Ftot', 'Fatal', 'Non-fatal', 'PDO',\n",
              "       'FI'],\n",
              "      dtype='object')"
            ]
          },
          "metadata": {},
          "execution_count": 61
        }
      ]
    },
    {
      "cell_type": "code",
      "metadata": {
        "id": "EqluU7LZkWVW"
      },
      "source": [
        ""
      ],
      "execution_count": null,
      "outputs": []
    }
  ]
}