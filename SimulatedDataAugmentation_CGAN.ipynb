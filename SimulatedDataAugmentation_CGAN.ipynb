{
  "nbformat": 4,
  "nbformat_minor": 0,
  "metadata": {
    "accelerator": "GPU",
    "colab": {
      "name": "SimulatedDataAugmentation_CGAN.ipynb",
      "provenance": [],
      "collapsed_sections": [
        "fId6iYAExoZ5",
        "CNK8w3Dn5HPJ",
        "y6T-sYJr5_qZ",
        "iHFlIPNTPXwX"
      ],
      "machine_shape": "hm",
      "mount_file_id": "1ut6bbZgWaJfOwCq81G5GTpZ4qYv965Sy",
      "authorship_tag": "ABX9TyMSOkQv32qpwFZBR/TUD9yC",
      "include_colab_link": true
    },
    "kernelspec": {
      "display_name": "Python 3",
      "name": "python3"
    },
    "language_info": {
      "name": "python"
    }
  },
  "cells": [
    {
      "cell_type": "markdown",
      "metadata": {
        "id": "view-in-github",
        "colab_type": "text"
      },
      "source": [
        "<a href=\"https://colab.research.google.com/github/mz-zarei/CGAN_Augmentation/blob/main/SimulatedDataAugmentation_CGAN.ipynb\" target=\"_parent\"><img src=\"https://colab.research.google.com/assets/colab-badge.svg\" alt=\"Open In Colab\"/></a>"
      ]
    },
    {
      "cell_type": "markdown",
      "metadata": {
        "id": "fId6iYAExoZ5"
      },
      "source": [
        "# **1-Import Libs**"
      ]
    },
    {
      "cell_type": "code",
      "metadata": {
        "cellView": "code",
        "id": "awBpkel75PlB",
        "colab": {
          "base_uri": "https://localhost:8080/"
        },
        "outputId": "4ec2b6e1-9aa0-4449-efb4-ec9b199f92c0"
      },
      "source": [
        "import nbeb\n",
        "import importlib\n",
        "import numpy as np\n",
        "import random\n",
        "from tqdm import tqdm\n",
        "import seaborn as sns\n",
        "import pandas as pd\n",
        "from sklearn.model_selection import train_test_split\n",
        "import matplotlib.pyplot as plt\n",
        "from sklearn.preprocessing import StandardScaler, MinMaxScaler\n",
        "from scipy.stats import kendalltau, pearsonr, spearmanr\n",
        "from numpy import expand_dims\n",
        "from numpy import zeros\n",
        "from numpy import ones\n",
        "from numpy import vstack\n",
        "from numpy.random import randn\n",
        "from numpy.random import randint\n",
        "from keras.datasets.mnist import load_data\n",
        "from tensorflow.keras.optimizers import Adam\n",
        "from keras.models import Sequential\n",
        "from keras.initializers import RandomNormal\n",
        "from keras.layers import Dense\n",
        "from keras.layers import Reshape\n",
        "from keras.layers import Flatten, BatchNormalization\n",
        "from keras.layers import Conv2D, Conv1D\n",
        "from keras.layers import Conv2DTranspose\n",
        "from keras.layers import LeakyReLU, ELU, ReLU, concatenate\n",
        "from keras.layers import Dropout\n",
        "from matplotlib import pyplot\n",
        "from keras import Input, Model\n",
        "import keras\n",
        "from keras.models import load_model\n",
        "from numpy.random import randn\n",
        "from matplotlib import pyplot\n",
        "import statsmodels.api as sm\n",
        "import statsmodels.formula.api as smf\n",
        "from statsmodels.distributions.empirical_distribution import ECDF\n",
        "from sklearn.metrics import mean_absolute_error, mean_squared_error, r2_score\n",
        "import matplotlib.pyplot as plt\n",
        "\n",
        "\n",
        "\n",
        "def MARD(results):\n",
        "    results_ = results.copy()\n",
        "    results_['MARD_nb'] =  abs((results['true_rank']-results['nb_rank'])/results['true_rank'])\n",
        "    mard = results_['MARD_nb'].sum()\n",
        "    return mard\n",
        "\n",
        "def FI(results):\n",
        "    FI_test = 0\n",
        "    for HS_level in [0.05,0.1,0.15,0.2]:\n",
        "        FI_test += 1-results[(results['true_rank'] > 1- HS_level) & (results['nb_rank'] > 1- HS_level)].count()[0]/results[(results['nb_rank'] > 1- HS_level)].count()[0]\n",
        "    return FI_test/4\n",
        "\n",
        "\n",
        "def PMD(results):\n",
        "    PMD_test = 0\n",
        "    for HS_level in [0.05,0.1,0.15,0.2]:\n",
        "        PMD_test += (results[results['true_rank'] > 1-HS_level]['Lambda'].mean() - results[results['nb_rank'] > 1-HS_level]['Lambda'].mean())/results[results['true_rank'] > 1-HS_level]['Lambda'].mean()\n",
        "    return PMD_test/4\n",
        "\n",
        "\n",
        "def rankHS(CrashData):\n",
        "    results = CrashData.copy()\n",
        "\n",
        "    results['y_pred_nb1'] = y_pred_NB1\n",
        "    results['y_pred_nb2'] = y_pred_NB2\n",
        "    results['alpha1'] = alpha1\n",
        "    results['alpha2'] = alpha2\n",
        "\n",
        "    results['w_nb1'] = 1/(1+results['alpha1']*results['y_pred_nb1'])\n",
        "    results['EB_nb1'] = results['w_nb1']*results['y_pred_nb1'] + (1-results['w_nb1'])*results['Obs']\n",
        "\n",
        "    results['w_nb2'] = 1/(1+results['alpha2']*results['y_pred_nb2'])\n",
        "    results['EB_nb2'] = results['w_nb2']*results['y_pred_nb2'] + (1-results['w_nb2'])*results['Obs']\n",
        "\n",
        "    results['true_rank'] =  results['Lambda'].rank(pct=True)\n",
        "    results['nb1_rank'] =  results['EB_nb1'].rank(pct=True)\n",
        "    results['nb2_rank'] =  results['EB_nb2'].rank(pct=True)\n",
        "    return results\n",
        "\n",
        "def eval(Concat_Data, CrashData, testData):\n",
        "    results = CrashData.copy()\n",
        "    y_test = test_data['Obs']\n",
        "    x_test = test_data[x_columns]\n",
        "    y_train = CrashData['Obs']\n",
        "    y_true = CrashData['Lambda']\n",
        "    x_train = CrashData[x_columns]\n",
        "\n",
        "    significant_features = nbeb.forward_regression(Concat_Data, x_columns, y_name='Obs', threshold_in=0.05, verbose=False)\n",
        "\n",
        "    NB_model, alpha_e  = nbeb.fitNB(Concat_Data, significant_features, y_name='Obs')\n",
        "\n",
        "    y_test_pred_NB = NB_model.predict(sm.add_constant(x_test[significant_features]))\n",
        "    y_pred_NB = NB_model.predict(sm.add_constant(CrashData[significant_features]))\n",
        "\n",
        "    MAPE_Pred = nbeb.MAPE(y_test.to_numpy(), y_test_pred_NB)\n",
        "\n",
        "    results['y_pred_nb'] = y_pred_NB\n",
        "    results['alpha'] = alpha_e\n",
        "    results['w_nb'] = 1/(1+results['alpha']*results['y_pred_nb'])\n",
        "    results['EB_nb'] = results['w_nb']*results['y_pred_nb'] + (1-results['w_nb'])*results['Obs']\n",
        "    results['true_rank'] =  results['Lambda'].rank(pct=True)\n",
        "    results['nb_rank'] =  results['EB_nb'].rank(pct=True)\n",
        "\n",
        "    FI_test, PMD_test, MARD_test = FI(results), PMD(results), MARD(results)\n",
        "    MAPE_EB =  nbeb.MAPE(results['EB_nb'].values,results['Lambda'].values)\n",
        "    MAPE_alpha = abs(alpha - alpha_e)/alpha\n",
        "\n",
        "\n",
        "    return [MAPE_Pred, FI_test, PMD_test, MARD_test, MAPE_EB, MAPE_alpha], len(significant_features)\n",
        "\n",
        "\n",
        "\n",
        "\n",
        "\n",
        "\n",
        "##################################################################################### GAN training Functions\n",
        "# define the standalone discriminator model\n",
        "def define_discriminator(in_shape=(7,)):\n",
        "    y = Input(shape=(x_size,), dtype='float')\n",
        "    y_output = Dense(100, activation=activation, kernel_initializer=kerner_initializer)(y)\n",
        "\n",
        "    label = Input(shape=(1,))\n",
        "    label_output = Dense(100, activation=activation, kernel_initializer=kerner_initializer)(label)\n",
        "\n",
        "    concat = concatenate([y_output, label_output])\n",
        "    concat = Dense(50, activation=activation, kernel_initializer=kerner_initializer)(concat)\n",
        "    concat = Dense(50, activation=activation, kernel_initializer=kerner_initializer)(concat)\n",
        "    validity = Dense(1, activation=\"sigmoid\", kernel_initializer=random_uniform)(concat)\n",
        "\n",
        "    model = Model(inputs=[y, label], outputs=validity)\n",
        "\n",
        "    # compile model\n",
        "    opt = Adam(learning_rate=dis_lr, beta_1=0.5, decay=dis_dec)\n",
        "    model.compile(loss='binary_crossentropy', optimizer=opt, metrics=['accuracy'])\n",
        "    return model\n",
        "\n",
        "# define the standalone generator model\n",
        "def define_generator(latent_dim, in_shape=1):\n",
        "    y = Input(shape=in_shape, dtype='float')\n",
        "    y_output = Dense(100, activation=activation, kernel_initializer=kerner_initializer)(y)\n",
        "\n",
        "    noise = Input(shape=(latent_dim,))\n",
        "    noise_output = Dense(100, activation=activation, kernel_initializer=kerner_initializer)(noise)\n",
        "\n",
        "    concat = concatenate([y_output, noise_output])\n",
        "\n",
        "    output = Dense(50, activation=activation, kernel_initializer=kerner_initializer)(concat)\n",
        "    output = Dense(50, activation=activation, kernel_initializer=kerner_initializer)(output)\n",
        "    output = Dense(50, activation=activation, kernel_initializer=kerner_initializer)(output)\n",
        "    output = Dense(x_size, activation=\"relu\", kernel_initializer=random_normal)(output)\n",
        "\n",
        "    model = Model(inputs=[noise, y], outputs=output)\n",
        "    return model\n",
        "\n",
        "# define the combined generator and discriminator model, for updating the generator\n",
        "def define_gan(g_model, d_model):\n",
        "    # make weights in the discriminator not trainable\n",
        "    d_model.trainable = False\n",
        "    # get noise and label inputs from generator model\n",
        "    gen_noise, gen_label = g_model.input\n",
        "    # get output from the generator model\n",
        "    gen_output = g_model.output\n",
        "    # connect output and label input from generator as inputs to discriminator\n",
        "    gan_output = d_model([gen_output, gen_label])\n",
        "    # define gan model as taking noise and label and outputting a classification\n",
        "    model = Model([gen_noise, gen_label], gan_output)\n",
        "    # compile model\n",
        "    opt = Adam(learning_rate=gen_lr, beta_1=0.5, decay=gen_dec)\n",
        "    model.compile(loss='binary_crossentropy', optimizer=opt)\n",
        "    return model\n",
        "\n",
        "# load and prepare training set\n",
        "def load_real_samples(x_train,y_train):\n",
        "\n",
        "    trainX = x_train.to_numpy()\n",
        "    trainY = y_train.to_numpy()\n",
        "\n",
        "    return [trainX, trainY]\n",
        "\n",
        "# select real samples\n",
        "def generate_real_samples(dataset, n_samples):\n",
        "    # choose random instances\n",
        "    ix = randint(0, dataset[0].shape[0], n_samples)\n",
        "    # retrieve selected images\n",
        "    X, labels = dataset[0][ix], dataset[1][ix]\n",
        "    # generate 'real' class labels (1)\n",
        "    y = ones((n_samples, 1))\n",
        "    return [X, labels], y\n",
        "\n",
        "# generate emipircal distribution of real y samples\n",
        "def generate_y_labels(y_train, size):\n",
        "    y_train = y_train.tolist()\n",
        "\n",
        "    min_y = min(y_train)\n",
        "    max_y = max(y_train)\n",
        "\n",
        "    y_list = range(min_y, max_y+1)\n",
        "    y_prob_list = []\n",
        "\n",
        "\n",
        "    for y in y_list:\n",
        "        y_prob = y_train.count(y)/len(y_train)\n",
        "        y_prob_list.append(y_prob)\n",
        "\n",
        "    for i, prob in enumerate(y_prob_list):\n",
        "        if prob == 0:\n",
        "            y_prob_list[i] = y_prob_list[len(y_prob_list)-1]\n",
        "    \n",
        "    y_prob_list_normalized = [float(i)/sum(y_prob_list) for i in y_prob_list]\n",
        "\n",
        "\n",
        "    sample_label = np.random.choice(y_list, size=size, p=y_prob_list_normalized)\n",
        "    return sample_label\n",
        "\n",
        "\n",
        "\n",
        "\n",
        "# generate points in latent space as input for the generator\n",
        "def generate_latent_points(latent_dim, n_samples):\n",
        "    # generate points in the latent space\n",
        "    x_input = randn(latent_dim * n_samples) #randn(latent_dim * n_samples)\n",
        "    # reshape into a batch of inputs for the network\n",
        "    z_input = x_input.reshape(n_samples, latent_dim)\n",
        "    # generate labels\n",
        "    idx = np.random.randint(0, x_train.shape[0], n_samples)\n",
        "    labels = dataset[1][idx]\n",
        "    return [z_input, labels]\n",
        "\n",
        "# use the generator to generate n fake examples, with class labels\n",
        "def generate_fake_samples(generator, latent_dim, n_samples):\n",
        "    # generate points in latent space\n",
        "    z_input, labels_input = generate_latent_points(latent_dim, n_samples)\n",
        "    # predict outputs\n",
        "    samples = generator.predict([z_input, labels_input])\n",
        "    # create class labels\n",
        "    y = zeros((n_samples, 1))\n",
        "    return [samples, labels_input], y\n",
        "\n",
        "# create a line plot of loss for the gan and save to file\n",
        "def plot_history(d1_hist, d2_hist, g_hist):\n",
        "    # plot history\n",
        "    pyplot.plot(d1_hist, label='Dis loss real')\n",
        "    pyplot.plot(d2_hist, label='Dis loss fake')\n",
        "    pyplot.plot(g_hist, label='Gen loss')\n",
        "    pyplot.legend()\n",
        "    pyplot.savefig('plot_line_plot_loss.png')\n",
        "\n",
        "# evaluate the discriminator, plot generated images, save generator model\n",
        "def summarize_performance(epoch, g_model, d_model, dataset, latent_dim, n_samples=100):\n",
        "    # prepare real samples\n",
        "    X_real, y_real = generate_real_samples(dataset, n_samples)\n",
        "    # evaluate discriminator on real examples\n",
        "    _, acc_real = d_model.evaluate(X_real, y_real, verbose=0)\n",
        "    # prepare fake examples\n",
        "    x_fake, y_fake = generate_fake_samples(g_model, latent_dim, n_samples)\n",
        "    # evaluate discriminator on fake examples\n",
        "    _, acc_fake = d_model.evaluate(x_fake, y_fake, verbose=0)\n",
        "    # summarize discriminator performance\n",
        "    print('>Accuracy real: %.0f%%, fake: %.0f%%' % (acc_real*100, acc_fake*100))\n",
        "    # save the generator model tile file\n",
        "    filename = '/content/drive/MyDrive/GAN_regression/ganRegression/CGAN_augment_models/generator_model_%03d.h5' % (epoch + 1)\n",
        "    g_model.save(filename)\n",
        "\n",
        "# train the generator and discriminator\n",
        "def train(g_model, d_model, gan_model, dataset, latent_dim, n_epochs, n_batch):\n",
        "    bat_per_epo = int(dataset[0].shape[0] / n_batch)\n",
        "    half_batch = int(n_batch / 2)\n",
        "    # lists for keeping track of loss\n",
        "    d1_hist, d2_hist, g_hist = list(), list(), list()\n",
        "    # manually enumerate epochs\n",
        "    for i in range(n_epochs):\n",
        "        # enumerate batches over the training set\n",
        "        for j in range(bat_per_epo):\n",
        "            # get randomly selected 'real' samples\n",
        "            [X_real, labels_real], y_real = generate_real_samples(dataset, half_batch)\n",
        "            # update discriminator model weights\n",
        "            d_loss1, _ = d_model.train_on_batch([X_real, labels_real], y_real)\n",
        "            # generate 'fake' examples\n",
        "            [X_fake, labels], y_fake = generate_fake_samples(g_model, latent_dim, half_batch)\n",
        "            # update discriminator model weights\n",
        "            d_loss2, _ = d_model.train_on_batch([X_fake, labels], y_fake)\n",
        "            # prepare points in latent space as input for the generator\n",
        "            [z_input, labels_input] = generate_latent_points(latent_dim, n_batch)\n",
        "            # create inverted labels for the fake samples\n",
        "            y_gan = ones((n_batch, 1))\n",
        "            # update the generator via the discriminator's error\n",
        "            g_loss = gan_model.train_on_batch([z_input, labels_input], y_gan)\n",
        "\n",
        "        d1_hist.append(d_loss1)\n",
        "        d2_hist.append(d_loss2)\n",
        "        g_hist.append(g_loss)\n",
        "        # evaluate the model performance, sometimes\n",
        "        if (i+1) % 500 == 0 and (i+1) > 3000:\n",
        "            summarize_performance(i, g_model, d_model, dataset, latent_dim)\n",
        "            print('Epoch: %d, dLoss real = %.3f, dLoss fake = %.3f, gLoss = %.3f' % (i+1, d_loss1, d_loss2, g_loss))\n",
        "    plot_history(d1_hist, d2_hist, g_hist)\n",
        "    return d1_hist, d2_hist, g_hist\n",
        "\n",
        "\n",
        "\n",
        "\n",
        "seed = 42\n",
        "kerner_initializer = keras.initializers.he_normal(seed=seed)\n",
        "random_uniform = keras.initializers.RandomUniform(seed=seed)\n",
        "random_normal = keras.initializers.RandomNormal(seed=seed)\n",
        "latent_dim, x_size = 4, 4\n",
        "activation = \"elu\"\n",
        "\n",
        "\n",
        "\n",
        "alpha, constant = 0.5, 0.5\n",
        "train_size, test_size = 500, 1000\n",
        "\n",
        "x_columns = ['X1','X2','X3','X4']\n",
        "path = '/content/drive/MyDrive/GAN_regression/ganRegression/SimulatedData/AugmentData_R1_'+str(train_size)+'_'+str(alpha)+'_'+str(constant)+'.xlsx'"
      ],
      "execution_count": null,
      "outputs": [
        {
          "output_type": "stream",
          "name": "stderr",
          "text": [
            "/usr/local/lib/python3.7/dist-packages/statsmodels/tools/_testing.py:19: FutureWarning: pandas.util.testing is deprecated. Use the functions in the public API at pandas.testing instead.\n",
            "  import pandas.util.testing as tm\n"
          ]
        }
      ]
    },
    {
      "cell_type": "markdown",
      "metadata": {
        "id": "CNK8w3Dn5HPJ"
      },
      "source": [
        "# **2-Simulate Test Train Crash Data**"
      ]
    },
    {
      "cell_type": "code",
      "metadata": {
        "id": "qMB1I7im5GDp",
        "colab": {
          "base_uri": "https://localhost:8080/",
          "height": 284
        },
        "outputId": "1851b00e-9b62-4015-eb38-3f5490df1dcd"
      },
      "source": [
        "alpha, constant = 0.5, 0.5\n",
        "train_size, test_size = 100, 1000\n",
        "\n",
        "path = '/content/drive/MyDrive/GAN_regression/ganRegression/SimulatedData/AugmentData_'+str(train_size)+'_'+str(alpha)+'_'+str(constant)+'.xlsx'\n",
        "\n",
        "test_data = nbeb.simulateCrashData([0.5, -0.5, 1, -1], data_size=test_size, error_mean=1, error_var=alpha, constant=constant)\n",
        "y_test = test_data['Obs']\n",
        "x_test = test_data[x_columns]\n",
        "\n",
        "\n",
        "CrashData = nbeb.simulateCrashData([0.5, -0.5, 1, -1], data_size=train_size, error_mean=1, error_var=alpha, constant=constant)\n",
        "\n",
        "CrashData.to_excel(path)\n",
        "print('Train size: ', train_size, ' Dispersion: ', alpha, ' mean: ', np.exp(constant))\n",
        "CrashData.head()\n",
        "ax = plt.hist(CrashData['Obs'])"
      ],
      "execution_count": null,
      "outputs": [
        {
          "output_type": "stream",
          "name": "stdout",
          "text": [
            "Train size:  100  Dispersion:  0.5  mean:  1.6487212707001282\n"
          ]
        },
        {
          "output_type": "display_data",
          "data": {
            "image/png": "[encoded data removed]",
            "text/plain": [
              "<Figure size 432x288 with 1 Axes>"
            ]
          },
          "metadata": {}
        }
      ]
    },
    {
      "cell_type": "markdown",
      "metadata": {
        "id": "y6T-sYJr5_qZ"
      },
      "source": [
        "# **3-Train GAN**"
      ]
    },
    {
      "cell_type": "code",
      "metadata": {
        "colab": {
          "base_uri": "https://localhost:8080/",
          "height": 485
        },
        "id": "4Fy4SHcK1e6b",
        "outputId": "109f39f0-3fa5-4c1b-d5ee-17afae3892af"
      },
      "source": [
        "CrashData = pd.read_excel(path)\n",
        "y_train1 = CrashData['Obs']\n",
        "x_train1 = CrashData[x_columns]\n",
        "\n",
        "\n",
        "gen_lr, dis_lr, gen_dec, dis_dec, n_epochs, n_batch = 0.001, 0.001, 0.001,0, 5000, int(500)  \n",
        "\n",
        "# create the discriminator\n",
        "d_model = define_discriminator()\n",
        "# create the generator\n",
        "g_model = define_generator(latent_dim)\n",
        "# create the gan\n",
        "gan_model = define_gan(g_model, d_model)\n",
        "# load image data\n",
        "dataset = load_real_samples(x_train1,y_train1)\n",
        "# # train model\n",
        "d1_hist, d2_hist, g_hist = train(g_model, d_model, gan_model, dataset, latent_dim, n_epochs, n_batch)"
      ],
      "execution_count": null,
      "outputs": [
        {
          "output_type": "stream",
          "name": "stdout",
          "text": [
            ">Accuracy real: 43%, fake: 74%\n",
            "WARNING:tensorflow:Compiled the loaded model, but the compiled metrics have yet to be built. `model.compile_metrics` will be empty until you train or evaluate the model.\n",
            "Epoch: 3500, dLoss real = 0.671, dLoss fake = 0.637, gLoss = 0.791\n",
            ">Accuracy real: 42%, fake: 78%\n",
            "WARNING:tensorflow:Compiled the loaded model, but the compiled metrics have yet to be built. `model.compile_metrics` will be empty until you train or evaluate the model.\n",
            "Epoch: 4000, dLoss real = 0.674, dLoss fake = 0.642, gLoss = 0.774\n",
            ">Accuracy real: 31%, fake: 80%\n",
            "WARNING:tensorflow:Compiled the loaded model, but the compiled metrics have yet to be built. `model.compile_metrics` will be empty until you train or evaluate the model.\n",
            "Epoch: 4500, dLoss real = 0.668, dLoss fake = 0.645, gLoss = 0.771\n",
            ">Accuracy real: 45%, fake: 82%\n",
            "WARNING:tensorflow:Compiled the loaded model, but the compiled metrics have yet to be built. `model.compile_metrics` will be empty until you train or evaluate the model.\n",
            "Epoch: 5000, dLoss real = 0.659, dLoss fake = 0.645, gLoss = 0.781\n"
          ]
        },
        {
          "output_type": "display_data",
          "data": {
            "image/png": "[encoded data removed]",
            "text/plain": [
              "<Figure size 432x288 with 1 Axes>"
            ]
          },
          "metadata": {}
        }
      ]
    },
    {
      "cell_type": "markdown",
      "metadata": {
        "id": "iHFlIPNTPXwX"
      },
      "source": [
        "# **4-Fit and Compare NB models**"
      ]
    },
    {
      "cell_type": "markdown",
      "metadata": {
        "id": "dBqW1J-vWQIW"
      },
      "source": [
        "## **Fit NB model with original data size**"
      ]
    },
    {
      "cell_type": "code",
      "metadata": {
        "colab": {
          "base_uri": "https://localhost:8080/"
        },
        "id": "wLjI9g2VoWxv",
        "outputId": "c5c07985-508b-435f-a6a6-2a6715e03f4d"
      },
      "source": [
        "## NB model with train data\n",
        "CrashData = pd.read_excel(path)\n",
        "y_train1 = CrashData['Obs']\n",
        "y_true = CrashData['Lambda']\n",
        "x_train1 = CrashData[x_columns]\n",
        "\n",
        "\n",
        "significant_features1 = nbeb.forward_regression(CrashData, x_columns, y_name='Obs', threshold_in=0.05, verbose=False)\n",
        "\n",
        "NB_model1, alpha1  = nbeb.fitNB(CrashData, significant_features1, y_name='Obs')\n",
        "\n",
        "y_test_pred_NB1 = NB_model1.predict(sm.add_constant(x_test[significant_features1]))\n",
        "y_pred_NB1 = NB_model1.predict(sm.add_constant(CrashData[significant_features1]))\n",
        "\n",
        "mae_NB1, mape_NB1, r2_NB1 = round(mean_absolute_error(y_test, y_test_pred_NB1),3), round(nbeb.MAPE(y_test.to_numpy(), y_test_pred_NB1),3), round(r2_score(y_test, y_test_pred_NB1),3)\n",
        "\n",
        "print(\"Test Set  --- MAE: \", mae_NB1, \"| MAPE: \", mape_NB1, \"| R2 score: \", r2_NB1, \" | Alpha: \", alpha1)\n",
        "print(NB_model1.summary2())"
      ],
      "execution_count": null,
      "outputs": [
        {
          "output_type": "stream",
          "name": "stdout",
          "text": [
            "Test Set  --- MAE:  1.466 | MAPE:  0.643 | R2 score:  0.111  | Alpha:  0.1678165227145116\n",
            "              Results: Generalized linear model\n",
            "==============================================================\n",
            "Model:              GLM              AIC:            344.4506 \n",
            "Link Function:      log              BIC:            -314.9527\n",
            "Dependent Variable: Obs              Log-Likelihood: -167.23  \n",
            "Date:               2021-11-05 13:30 LL-Null:        -173.68  \n",
            "No. Observations:   100              Deviance:       122.54   \n",
            "Df Model:           4                Pearson chi2:   104.     \n",
            "Df Residuals:       95               Scale:          1.0000   \n",
            "Method:             IRLS                                      \n",
            "---------------------------------------------------------------\n",
            "            Coef.   Std.Err.     z     P>|z|    [0.025   0.975]\n",
            "---------------------------------------------------------------\n",
            "const       0.5213    0.3090   1.6868  0.0916  -0.0844   1.1270\n",
            "X1          0.4712    0.3110   1.5150  0.1298  -0.1384   1.0807\n",
            "X2         -0.0657    0.3180  -0.2066  0.8363  -0.6889   0.5575\n",
            "X3          0.5268    0.3050   1.7269  0.0842  -0.0711   1.1247\n",
            "X4         -0.8796    0.3239  -2.7153  0.0066  -1.5146  -0.2447\n",
            "==============================================================\n",
            "\n"
          ]
        }
      ]
    },
    {
      "cell_type": "code",
      "metadata": {
        "colab": {
          "base_uri": "https://localhost:8080/",
          "height": 424
        },
        "id": "nXA41NBSSbff",
        "outputId": "500cf53d-6f6f-4e94-b5ef-7a50f0b88dd5"
      },
      "source": [
        "x_test"
      ],
      "execution_count": null,
      "outputs": [
        {
          "output_type": "execute_result",
          "data": {
            "text/html": [
              "<div>\n",
              "<style scoped>\n",
              "    .dataframe tbody tr th:only-of-type {\n",
              "        vertical-align: middle;\n",
              "    }\n",
              "\n",
              "    .dataframe tbody tr th {\n",
              "        vertical-align: top;\n",
              "    }\n",
              "\n",
              "    .dataframe thead th {\n",
              "        text-align: right;\n",
              "    }\n",
              "</style>\n",
              "<table border=\"1\" class=\"dataframe\">\n",
              "  <thead>\n",
              "    <tr style=\"text-align: right;\">\n",
              "      <th></th>\n",
              "      <th>X1</th>\n",
              "      <th>X2</th>\n",
              "      <th>X3</th>\n",
              "      <th>X4</th>\n",
              "    </tr>\n",
              "  </thead>\n",
              "  <tbody>\n",
              "    <tr>\n",
              "      <th>0</th>\n",
              "      <td>0.143155</td>\n",
              "      <td>0.650157</td>\n",
              "      <td>0.871292</td>\n",
              "      <td>0.231378</td>\n",
              "    </tr>\n",
              "    <tr>\n",
              "      <th>1</th>\n",
              "      <td>0.973441</td>\n",
              "      <td>0.167555</td>\n",
              "      <td>0.449825</td>\n",
              "      <td>0.134514</td>\n",
              "    </tr>\n",
              "    <tr>\n",
              "      <th>2</th>\n",
              "      <td>0.948914</td>\n",
              "      <td>0.354597</td>\n",
              "      <td>0.148333</td>\n",
              "      <td>0.586614</td>\n",
              "    </tr>\n",
              "    <tr>\n",
              "      <th>3</th>\n",
              "      <td>0.956807</td>\n",
              "      <td>0.782913</td>\n",
              "      <td>0.868620</td>\n",
              "      <td>0.193097</td>\n",
              "    </tr>\n",
              "    <tr>\n",
              "      <th>4</th>\n",
              "      <td>0.204736</td>\n",
              "      <td>0.648633</td>\n",
              "      <td>0.633695</td>\n",
              "      <td>0.725734</td>\n",
              "    </tr>\n",
              "    <tr>\n",
              "      <th>...</th>\n",
              "      <td>...</td>\n",
              "      <td>...</td>\n",
              "      <td>...</td>\n",
              "      <td>...</td>\n",
              "    </tr>\n",
              "    <tr>\n",
              "      <th>995</th>\n",
              "      <td>0.121493</td>\n",
              "      <td>0.031972</td>\n",
              "      <td>0.310045</td>\n",
              "      <td>0.921345</td>\n",
              "    </tr>\n",
              "    <tr>\n",
              "      <th>996</th>\n",
              "      <td>0.448746</td>\n",
              "      <td>0.189819</td>\n",
              "      <td>0.932739</td>\n",
              "      <td>0.424276</td>\n",
              "    </tr>\n",
              "    <tr>\n",
              "      <th>997</th>\n",
              "      <td>0.802911</td>\n",
              "      <td>0.280089</td>\n",
              "      <td>0.727293</td>\n",
              "      <td>0.684522</td>\n",
              "    </tr>\n",
              "    <tr>\n",
              "      <th>998</th>\n",
              "      <td>0.912462</td>\n",
              "      <td>0.813205</td>\n",
              "      <td>0.534235</td>\n",
              "      <td>0.682717</td>\n",
              "    </tr>\n",
              "    <tr>\n",
              "      <th>999</th>\n",
              "      <td>0.816275</td>\n",
              "      <td>0.084039</td>\n",
              "      <td>0.289880</td>\n",
              "      <td>0.567050</td>\n",
              "    </tr>\n",
              "  </tbody>\n",
              "</table>\n",
              "<p>1000 rows × 4 columns</p>\n",
              "</div>"
            ],
            "text/plain": [
              "           X1        X2        X3        X4\n",
              "0    0.143155  0.650157  0.871292  0.231378\n",
              "1    0.973441  0.167555  0.449825  0.134514\n",
              "2    0.948914  0.354597  0.148333  0.586614\n",
              "3    0.956807  0.782913  0.868620  0.193097\n",
              "4    0.204736  0.648633  0.633695  0.725734\n",
              "..        ...       ...       ...       ...\n",
              "995  0.121493  0.031972  0.310045  0.921345\n",
              "996  0.448746  0.189819  0.932739  0.424276\n",
              "997  0.802911  0.280089  0.727293  0.684522\n",
              "998  0.912462  0.813205  0.534235  0.682717\n",
              "999  0.816275  0.084039  0.289880  0.567050\n",
              "\n",
              "[1000 rows x 4 columns]"
            ]
          },
          "metadata": {},
          "execution_count": 58
        }
      ]
    },
    {
      "cell_type": "code",
      "metadata": {
        "colab": {
          "base_uri": "https://localhost:8080/",
          "height": 424
        },
        "id": "1Wq4dDbnSYJB",
        "outputId": "5f1e4143-9c56-487f-fc83-be893e4f1c16"
      },
      "source": [
        "CrashData"
      ],
      "execution_count": null,
      "outputs": [
        {
          "output_type": "execute_result",
          "data": {
            "text/html": [
              "<div>\n",
              "<style scoped>\n",
              "    .dataframe tbody tr th:only-of-type {\n",
              "        vertical-align: middle;\n",
              "    }\n",
              "\n",
              "    .dataframe tbody tr th {\n",
              "        vertical-align: top;\n",
              "    }\n",
              "\n",
              "    .dataframe thead th {\n",
              "        text-align: right;\n",
              "    }\n",
              "</style>\n",
              "<table border=\"1\" class=\"dataframe\">\n",
              "  <thead>\n",
              "    <tr style=\"text-align: right;\">\n",
              "      <th></th>\n",
              "      <th>Unnamed: 0</th>\n",
              "      <th>X1</th>\n",
              "      <th>X2</th>\n",
              "      <th>X3</th>\n",
              "      <th>X4</th>\n",
              "      <th>Obs</th>\n",
              "      <th>Lambda</th>\n",
              "    </tr>\n",
              "  </thead>\n",
              "  <tbody>\n",
              "    <tr>\n",
              "      <th>0</th>\n",
              "      <td>0</td>\n",
              "      <td>0.063130</td>\n",
              "      <td>0.385756</td>\n",
              "      <td>0.067726</td>\n",
              "      <td>0.450905</td>\n",
              "      <td>2</td>\n",
              "      <td>3.398977</td>\n",
              "    </tr>\n",
              "    <tr>\n",
              "      <th>1</th>\n",
              "      <td>1</td>\n",
              "      <td>0.699214</td>\n",
              "      <td>0.427839</td>\n",
              "      <td>0.091114</td>\n",
              "      <td>0.718576</td>\n",
              "      <td>0</td>\n",
              "      <td>1.015068</td>\n",
              "    </tr>\n",
              "    <tr>\n",
              "      <th>2</th>\n",
              "      <td>2</td>\n",
              "      <td>0.059898</td>\n",
              "      <td>0.437082</td>\n",
              "      <td>0.192664</td>\n",
              "      <td>0.560023</td>\n",
              "      <td>0</td>\n",
              "      <td>0.364516</td>\n",
              "    </tr>\n",
              "    <tr>\n",
              "      <th>3</th>\n",
              "      <td>3</td>\n",
              "      <td>0.793303</td>\n",
              "      <td>0.976366</td>\n",
              "      <td>0.850911</td>\n",
              "      <td>0.979782</td>\n",
              "      <td>1</td>\n",
              "      <td>1.397278</td>\n",
              "    </tr>\n",
              "    <tr>\n",
              "      <th>4</th>\n",
              "      <td>4</td>\n",
              "      <td>0.036703</td>\n",
              "      <td>0.254901</td>\n",
              "      <td>0.675426</td>\n",
              "      <td>0.661657</td>\n",
              "      <td>2</td>\n",
              "      <td>1.648521</td>\n",
              "    </tr>\n",
              "    <tr>\n",
              "      <th>...</th>\n",
              "      <td>...</td>\n",
              "      <td>...</td>\n",
              "      <td>...</td>\n",
              "      <td>...</td>\n",
              "      <td>...</td>\n",
              "      <td>...</td>\n",
              "      <td>...</td>\n",
              "    </tr>\n",
              "    <tr>\n",
              "      <th>95</th>\n",
              "      <td>95</td>\n",
              "      <td>0.184455</td>\n",
              "      <td>0.915100</td>\n",
              "      <td>0.325106</td>\n",
              "      <td>0.170863</td>\n",
              "      <td>0</td>\n",
              "      <td>0.847078</td>\n",
              "    </tr>\n",
              "    <tr>\n",
              "      <th>96</th>\n",
              "      <td>96</td>\n",
              "      <td>0.400395</td>\n",
              "      <td>0.547871</td>\n",
              "      <td>0.452217</td>\n",
              "      <td>0.836919</td>\n",
              "      <td>0</td>\n",
              "      <td>0.302623</td>\n",
              "    </tr>\n",
              "    <tr>\n",
              "      <th>97</th>\n",
              "      <td>97</td>\n",
              "      <td>0.355540</td>\n",
              "      <td>0.402971</td>\n",
              "      <td>0.042293</td>\n",
              "      <td>0.704426</td>\n",
              "      <td>1</td>\n",
              "      <td>0.713386</td>\n",
              "    </tr>\n",
              "    <tr>\n",
              "      <th>98</th>\n",
              "      <td>98</td>\n",
              "      <td>0.024096</td>\n",
              "      <td>0.552591</td>\n",
              "      <td>0.016241</td>\n",
              "      <td>0.127385</td>\n",
              "      <td>0</td>\n",
              "      <td>0.896345</td>\n",
              "    </tr>\n",
              "    <tr>\n",
              "      <th>99</th>\n",
              "      <td>99</td>\n",
              "      <td>0.760662</td>\n",
              "      <td>0.716863</td>\n",
              "      <td>0.057391</td>\n",
              "      <td>0.064214</td>\n",
              "      <td>0</td>\n",
              "      <td>0.201623</td>\n",
              "    </tr>\n",
              "  </tbody>\n",
              "</table>\n",
              "<p>100 rows × 7 columns</p>\n",
              "</div>"
            ],
            "text/plain": [
              "    Unnamed: 0        X1        X2        X3        X4  Obs    Lambda\n",
              "0            0  0.063130  0.385756  0.067726  0.450905    2  3.398977\n",
              "1            1  0.699214  0.427839  0.091114  0.718576    0  1.015068\n",
              "2            2  0.059898  0.437082  0.192664  0.560023    0  0.364516\n",
              "3            3  0.793303  0.976366  0.850911  0.979782    1  1.397278\n",
              "4            4  0.036703  0.254901  0.675426  0.661657    2  1.648521\n",
              "..         ...       ...       ...       ...       ...  ...       ...\n",
              "95          95  0.184455  0.915100  0.325106  0.170863    0  0.847078\n",
              "96          96  0.400395  0.547871  0.452217  0.836919    0  0.302623\n",
              "97          97  0.355540  0.402971  0.042293  0.704426    1  0.713386\n",
              "98          98  0.024096  0.552591  0.016241  0.127385    0  0.896345\n",
              "99          99  0.760662  0.716863  0.057391  0.064214    0  0.201623\n",
              "\n",
              "[100 rows x 7 columns]"
            ]
          },
          "metadata": {},
          "execution_count": 55
        }
      ]
    },
    {
      "cell_type": "markdown",
      "metadata": {
        "id": "m-8AGoG6WWWE"
      },
      "source": [
        "## **Fit NB model with CGAN augmented data size**"
      ]
    },
    {
      "cell_type": "code",
      "metadata": {
        "colab": {
          "base_uri": "https://localhost:8080/"
        },
        "id": "vl_Kswts2_aI",
        "outputId": "85d760b9-4ec4-4b04-96b1-15ebca6b30d9"
      },
      "source": [
        "# load GAN model\n",
        "model_path = '/content/drive/MyDrive/GAN_regression/ganRegression/CGAN_augment_models/'\n",
        "model = load_model(model_path + 'generator_model_9500.h5')\n",
        "dataset = load_real_samples(x_train1, y_train1)\n",
        "\n",
        "# generate samples\n",
        "latent_points = generate_latent_points(latent_dim, 1000)\n",
        "# generate images\n",
        "Fake_data = model.predict(latent_points)\n",
        "fake = pd.DataFrame(Fake_data, columns=x_columns)\n",
        "fake['Obs'] = latent_points[1]\n",
        "\n",
        "\n",
        "## NB model with real and fake data\n",
        "# Find significant features\n",
        "concat_data = pd.concat([CrashData, fake])\n",
        "x_train2 = concat_data[x_columns]\n",
        "y_train2 = concat_data['Obs']\n",
        "significant_features2 = nbeb.forward_regression(concat_data, x_columns, y_name='Obs', threshold_in=0.05, verbose=False) \n",
        "\n",
        "NB_model2, alpha2 = nbeb.fitNB(concat_data, significant_features2, y_name='Obs')\n",
        "\n",
        "y_pred_NB2 = NB_model2.predict(sm.add_constant(x_train1[significant_features2]))\n",
        "y_test_pred_NB2 = NB_model2.predict(sm.add_constant(x_test[significant_features2]))\n",
        "\n",
        "\n",
        "mae_NB2, mape_NB2, r2_NB2 = round(mean_absolute_error(y_test, y_test_pred_NB2),3), round(nbeb.MAPE(y_test.to_numpy(), y_test_pred_NB2),3), round(r2_score(y_test, y_test_pred_NB2),3)\n",
        "print(\"Test Set  --- MAE: \", mae_NB2, \"| MAPE: \", mape_NB2, \"| R2 score: \", r2_NB2, \" | Alpha: \", alpha2)\n",
        "\n",
        "print(NB_model2.summary2())\n",
        "\n",
        "# fake.hist(figsize=(10,8),bins=10)\n",
        "# fake.describe()"
      ],
      "execution_count": null,
      "outputs": [
        {
          "output_type": "stream",
          "name": "stdout",
          "text": [
            "WARNING:tensorflow:No training configuration found in the save file, so the model was *not* compiled. Compile it manually.\n",
            "Test Set  --- MAE:  1.425 | MAPE:  0.644 | R2 score:  0.119  | Alpha:  0.15419832396119068\n",
            "               Results: Generalized linear model\n",
            "===============================================================\n",
            "Model:              GLM              AIC:            4671.7167 \n",
            "Link Function:      log              BIC:            -9167.9133\n",
            "Dependent Variable: Obs              Log-Likelihood: -2330.9   \n",
            "Date:               2021-11-05 13:23 LL-Null:        -2917.8   \n",
            "No. Observations:   1500             Deviance:       1765.4    \n",
            "Df Model:           4                Pearson chi2:   1.95e+03  \n",
            "Df Residuals:       1495             Scale:          1.0000    \n",
            "Method:             IRLS                                       \n",
            "----------------------------------------------------------------\n",
            "            Coef.   Std.Err.     z      P>|z|    [0.025   0.975]\n",
            "----------------------------------------------------------------\n",
            "const       0.8941    0.1104    8.0959  0.0000   0.6777   1.1106\n",
            "X4         -1.8308    0.0802  -22.8351  0.0000  -1.9879  -1.6736\n",
            "X3          0.9404    0.0809   11.6290  0.0000   0.7819   1.0989\n",
            "X2         -1.0176    0.1012  -10.0600  0.0000  -1.2159  -0.8194\n",
            "X1          0.6168    0.1084    5.6887  0.0000   0.4043   0.8293\n",
            "===============================================================\n",
            "\n"
          ]
        }
      ]
    },
    {
      "cell_type": "markdown",
      "metadata": {
        "id": "8gBjmM6YWcHG"
      },
      "source": [
        "## **Compare each NB model for NS results**"
      ]
    },
    {
      "cell_type": "code",
      "metadata": {
        "id": "xYrpn8ffROsy",
        "colab": {
          "base_uri": "https://localhost:8080/",
          "height": 246
        },
        "outputId": "354e7497-9eb2-46e2-aaaf-4999c145fc61"
      },
      "source": [
        "\n",
        "results = rankHS(CrashData)\n",
        "hotspot_percentage = np.arange(0.01,0.21,0.01)\n",
        "\n",
        "\n",
        "res = []\n",
        "for i in hotspot_percentage:\n",
        "    FI_nb1, FI_nb2, FI_change = FI(results,i)\n",
        "    PMD_nb1, PMD_nb2, PMD_change = PMD(results,i)\n",
        "    MAPE_nb1, MAPE_nb2, MAPE_change = MAPE_h(results,i)\n",
        "    # print(round(i*100,2) , '% hotspotts')\n",
        "    # print('FI: nb1=%.3f, nb2=%.3f' % (FI_nb1,FI_nb2))\n",
        "    # print('PMD: nb1=%.3f, nb2=%.3f' % (PMD_nb1,PMD_nb2))\n",
        "\n",
        "    res.append([FI_nb1, FI_nb2,FI_change, PMD_nb1, PMD_nb2,PMD_change, MAPE_nb1, MAPE_nb2,MAPE_change])\n",
        "    \n",
        "    print('FI  improvement: ', FI_change)\n",
        "    print('PMD MAE improvement: ', PMD_change)\n",
        "    print(\"=\"*50)\n",
        "\n",
        "res = pd.DataFrame(res, columns=[\"FI_nb1\", \"FI_nb2\", \"FI_change\", \"PMD_nb1\", \"PMD_nb2\", \"PMD_change\", \"MAPE_nb1\", \"MAPE_nb2\", \"MAPE_change\"])\n",
        "\n",
        "print(' MAE: nb1=%.3f, nb2=%.3f' % (round(mean_absolute_error(results['EB_nb1'],results['Lambda']),3),round(mean_absolute_error(results['EB_nb2'],results['Lambda']),3)))\n",
        "print('MAPE: nb1=%.3f, nb2=%.3f' % (round(nbeb.MAPE(results['EB_nb1'],results['Lambda']),3),round(nbeb.MAPE(results['EB_nb2'],results['Lambda']),3)))\n",
        "print('  R2: nb1=%.3f, nb2=%.3f' % (round(r2_score(results['EB_nb1'],results['Lambda']),3),round(r2_score(results['EB_nb2'],results['Lambda']),3)))\n",
        "\n",
        "fig, ax = plt.subplots(1,3,figsize=(15,4))\n",
        "\n",
        "ax[0].plot(res.index+1, res[\"FI_nb1\"], label='FI_nb1', marker = \"s\")\n",
        "ax[0].plot(res.index+1, res[\"FI_nb2\"], label='FI_nb2', marker = \"o\")\n",
        "ax[0].legend(loc=\"lower right\")\n",
        "ax[0].set_xlabel('HS%')\n",
        "\n",
        "ax[1].plot(res.index+1, res[\"PMD_nb1\"], label='PMD_nb1', marker =\"s\")\n",
        "ax[1].plot(res.index+1, res[\"PMD_nb2\"], label='PMD_nb2',marker = \"o\")\n",
        "ax[1].legend(loc=\"lower right\")\n",
        "ax[1].set_xlabel('HS%')\n",
        "\n",
        "ax[2].plot(res.index+1, res[\"MAPE_nb1\"], label='MAPE_nb1', marker = \"s\")\n",
        "ax[2].plot(res.index+1, res[\"MAPE_nb2\"], label='MAPE_nb2', marker = \"o\")\n",
        "ax[2].legend(loc=\"lower right\")\n",
        "ax[2].set_xlabel('HS%')\n",
        "\n",
        "plt.show()\n",
        "res.describe()"
      ],
      "execution_count": null,
      "outputs": [
        {
          "output_type": "error",
          "ename": "TypeError",
          "evalue": "ignored",
          "traceback": [
            "\u001b[0;31m---------------------------------------------------------------------------\u001b[0m",
            "\u001b[0;31mTypeError\u001b[0m                                 Traceback (most recent call last)",
            "\u001b[0;32m<ipython-input-21-6112e6d63aee>\u001b[0m in \u001b[0;36m<module>\u001b[0;34m()\u001b[0m\n\u001b[1;32m      6\u001b[0m \u001b[0mres\u001b[0m \u001b[0;34m=\u001b[0m \u001b[0;34m[\u001b[0m\u001b[0;34m]\u001b[0m\u001b[0;34m\u001b[0m\u001b[0;34m\u001b[0m\u001b[0m\n\u001b[1;32m      7\u001b[0m \u001b[0;32mfor\u001b[0m \u001b[0mi\u001b[0m \u001b[0;32min\u001b[0m \u001b[0mhotspot_percentage\u001b[0m\u001b[0;34m:\u001b[0m\u001b[0;34m\u001b[0m\u001b[0;34m\u001b[0m\u001b[0m\n\u001b[0;32m----> 8\u001b[0;31m     \u001b[0mFI_nb1\u001b[0m\u001b[0;34m,\u001b[0m \u001b[0mFI_nb2\u001b[0m\u001b[0;34m,\u001b[0m \u001b[0mFI_change\u001b[0m \u001b[0;34m=\u001b[0m \u001b[0mFI\u001b[0m\u001b[0;34m(\u001b[0m\u001b[0mresults\u001b[0m\u001b[0;34m,\u001b[0m\u001b[0mi\u001b[0m\u001b[0;34m)\u001b[0m\u001b[0;34m\u001b[0m\u001b[0;34m\u001b[0m\u001b[0m\n\u001b[0m\u001b[1;32m      9\u001b[0m     \u001b[0mPMD_nb1\u001b[0m\u001b[0;34m,\u001b[0m \u001b[0mPMD_nb2\u001b[0m\u001b[0;34m,\u001b[0m \u001b[0mPMD_change\u001b[0m \u001b[0;34m=\u001b[0m \u001b[0mPMD\u001b[0m\u001b[0;34m(\u001b[0m\u001b[0mresults\u001b[0m\u001b[0;34m,\u001b[0m\u001b[0mi\u001b[0m\u001b[0;34m)\u001b[0m\u001b[0;34m\u001b[0m\u001b[0;34m\u001b[0m\u001b[0m\n\u001b[1;32m     10\u001b[0m     \u001b[0mMAPE_nb1\u001b[0m\u001b[0;34m,\u001b[0m \u001b[0mMAPE_nb2\u001b[0m\u001b[0;34m,\u001b[0m \u001b[0mMAPE_change\u001b[0m \u001b[0;34m=\u001b[0m \u001b[0mMAPE_h\u001b[0m\u001b[0;34m(\u001b[0m\u001b[0mresults\u001b[0m\u001b[0;34m,\u001b[0m\u001b[0mi\u001b[0m\u001b[0;34m)\u001b[0m\u001b[0;34m\u001b[0m\u001b[0;34m\u001b[0m\u001b[0m\n",
            "\u001b[0;31mTypeError\u001b[0m: FI() takes 1 positional argument but 2 were given"
          ]
        }
      ]
    },
    {
      "cell_type": "markdown",
      "metadata": {
        "id": "JDefqUV20gRq"
      },
      "source": [
        "# **5-Replications**"
      ]
    },
    {
      "cell_type": "code",
      "metadata": {
        "id": "qUC4j-KSXKfS",
        "colab": {
          "base_uri": "https://localhost:8080/"
        },
        "outputId": "414b875e-6e60-4102-b64d-171834a2d494"
      },
      "source": [
        "tests = []\n",
        "constant = 0.5\n",
        "train_size, test_size = 100, 1000\n",
        "\n",
        "for alpha in [0.5, 1.5]:\n",
        "    for i in tqdm(range(1000)):\n",
        "        ## Simulate new validation data\n",
        "        test_data = nbeb.simulateCrashData([0.5, -0.5, 1, -1], data_size=test_size, error_mean=1, error_var=alpha, constant=constant)\n",
        "        CrashData = nbeb.simulateCrashData([0.5, -0.5, 1, -1], data_size=train_size, error_mean=1, error_var=alpha, constant=constant)\n",
        "\n",
        "        y_train = CrashData['Obs']\n",
        "        x_train = CrashData[x_columns]\n",
        "\n",
        "        ## Generate Fake data\n",
        "        # load GAN model\n",
        "        model = load_model('/content/drive/MyDrive/GAN_regression/ganRegression/CGAN_augment_models/generator_model_'+str(train_size)+'_'+str(alpha)+'_'+str(constant)+'.h5', compile=False)\n",
        "        dataset = load_real_samples(x_train, y_train)\n",
        "        # generate samples\n",
        "        latent_points = generate_latent_points(latent_dim, 1000)\n",
        "        Fake_data = model.predict(latent_points)\n",
        "        fake = pd.DataFrame(Fake_data, columns=x_columns)\n",
        "        fake['Obs'] = latent_points[1]\n",
        "\n",
        "\n",
        "        ## Evaluation results\n",
        "        for fake_size in [0, 200, 500, 1000]:\n",
        "            eval_list = []\n",
        "            eval_list.append(fake_size)\n",
        "            eval_list.append(alpha)\n",
        "            Concat_data = pd.concat([CrashData, fake.sample(fake_size)])\n",
        "            eval_results, sig_fit = eval(Concat_data, CrashData, test_data)\n",
        "            \n",
        "            eval_list.extend(eval_results)\n",
        "            if fake_size == 0:\n",
        "                sig_fit0 = sig_fit\n",
        "            \n",
        "            eval_list.append(sig_fit0)\n",
        "\n",
        "            tests.append(eval_list)\n"
      ],
      "execution_count": null,
      "outputs": [
        {
          "output_type": "stream",
          "name": "stderr",
          "text": [
            "100%|██████████| 1000/1000 [29:37<00:00,  1.78s/it]\n",
            "100%|██████████| 1000/1000 [29:58<00:00,  1.80s/it]\n"
          ]
        }
      ]
    },
    {
      "cell_type": "code",
      "metadata": {
        "id": "dRsRAKeMD45n"
      },
      "source": [
        "tests = pd.DataFrame(tests, columns=[\"Synthetic Data Size\", \"Dispersion\", \"MAPE(test)\", \"FI\", \"PMD\", \"MARD\", \"MAPE(EB)\", \"MAPE(alpha)\", \"Significant Features\"])\n",
        "tests.to_excel('Results_'+str(train_size)+'.xlsx')"
      ],
      "execution_count": null,
      "outputs": []
    },
    {
      "cell_type": "markdown",
      "metadata": {
        "id": "1jkDJCtgk6Oo"
      },
      "source": [
        "# **6-Plots**"
      ]
    },
    {
      "cell_type": "code",
      "metadata": {
        "colab": {
          "base_uri": "https://localhost:8080/",
          "height": 1000
        },
        "id": "Tby9vtHlCoeN",
        "outputId": "6fa33bb0-f60e-4703-ce97-792fc4b7ea43"
      },
      "source": [
        "import seaborn as sns\n",
        "import pandas as pd\n",
        "import matplotlib.pyplot as plt\n",
        "\n",
        "tests = pd.read_excel('/content/Results_100.xlsx')\n",
        "sns.set_style(\"darkgrid\")\n",
        "\n",
        "s = sns.catplot(data=tests, x=\"Dispersion\", y = \"FI\", hue=\"Synthetic Data Size\", width=0.4, kind=\"box\", height=4, aspect=1.5, showfliers=False, showmeans =True)\n",
        "plt.show()\n",
        "s.savefig('FI.pdf')\n",
        "\n",
        "s = sns.catplot(data=tests, x=\"Dispersion\", y = \"PMD\", hue=\"Synthetic Data Size\", width=0.4,  kind=\"box\", height=4, aspect=1.5, showfliers=False, showmeans =True)\n",
        "plt.show()\n",
        "s.savefig('PMD.pdf')\n",
        "\n",
        "s = sns.catplot(data=tests, x=\"Dispersion\", y = \"MAPE (EB)\", hue=\"Synthetic Data Size\", width=0.4, kind=\"box\", height=4, aspect=1.5, showfliers=False, showmeans =True)\n",
        "plt.show()\n",
        "s.savefig('EB.pdf')\n",
        "\n",
        "s = sns.catplot(data=tests, x=\"Dispersion\", y = \"MAPE (Crash)\", hue=\"Synthetic Data Size\", width=0.4,  kind=\"box\", height=4, aspect=1.5, showfliers=False, showmeans =True)\n",
        "plt.show()\n",
        "s.savefig('Crash.pdf')\n",
        "\n",
        "s = sns.catplot(data=tests, x=\"Dispersion\", y = \"MAPE (Dispersion)\", hue=\"Synthetic Data Size\", width=0.4,  kind=\"box\", height=4, aspect=1.5, showfliers=False, showmeans =True)\n",
        "plt.show()\n",
        "s.savefig('Dispersion.pdf')\n",
        "\n"
      ],
      "execution_count": null,
      "outputs": [
        {
          "output_type": "display_data",
          "data": {
            "image/png": "[encoded data removed]",
            "text/plain": [
              "<Figure size 537.625x288 with 1 Axes>"
            ]
          },
          "metadata": {}
        },
        {
          "output_type": "display_data",
          "data": {
            "image/png": "[encoded data removed]",
            "text/plain": [
              "<Figure size 537.625x288 with 1 Axes>"
            ]
          },
          "metadata": {}
        },
        {
          "output_type": "display_data",
          "data": {
            "image/png": "[encoded data removed]",
            "text/plain": [
              "<Figure size 537.625x288 with 1 Axes>"
            ]
          },
          "metadata": {}
        },
        {
          "output_type": "display_data",
          "data": {
            "image/png": "[encoded data removed]",
            "text/plain": [
              "<Figure size 537.625x288 with 1 Axes>"
            ]
          },
          "metadata": {}
        },
        {
          "output_type": "display_data",
          "data": {
            "image/png": "[encoded data removed]",
            "text/plain": [
              "<Figure size 537.625x288 with 1 Axes>"
            ]
          },
          "metadata": {}
        }
      ]
    },
    {
      "cell_type": "code",
      "metadata": {
        "id": "lwIou0C81J_F",
        "colab": {
          "base_uri": "https://localhost:8080/",
          "height": 1000
        },
        "outputId": "2ec437db-1116-4078-c705-6682284c12db"
      },
      "source": [
        "sns.catplot(data=tests, x=\"Dispersion\", y = \"FI\", hue=\"Synthetic Data Size\", width=0.4, kind=\"box\", height=4, aspect=1.5, showfliers=False, showmeans =True)\n",
        "sns.catplot(data=tests, x=\"Dispersion\", y = \"PMD\", hue=\"Synthetic Data Size\", width=0.4, kind=\"box\", height=4, aspect=1.5, showfliers=False, showmeans =True)\n",
        "sns.catplot(data=tests, x=\"Dispersion\", y = \"MAPE(test)\", hue=\"Synthetic Data Size\", width=0.4, kind=\"box\", height=4, aspect=1.5, showfliers=False, showmeans =True)\n",
        "sns.catplot(data=tests, x=\"Dispersion\", y = \"MAPE(EB)\", hue=\"Synthetic Data Size\", width=0.4, kind=\"box\", height=4, aspect=1.5, showfliers=False, showmeans =True)\n",
        "sns.catplot(data=tests, x=\"Dispersion\", y = \"MAPE(alpha)\", hue=\"Synthetic Data Size\", width=0.4, kind=\"box\", height=4, aspect=1.5, showfliers=False, showmeans =True)\n"
      ],
      "execution_count": null,
      "outputs": [
        {
          "output_type": "execute_result",
          "data": {
            "text/plain": [
              "<seaborn.axisgrid.FacetGrid at 0x7f5df8ccd8d0>"
            ]
          },
          "metadata": {},
          "execution_count": 7
        },
        {
          "output_type": "display_data",
          "data": {
            "image/png": "[encoded data removed]",
            "text/plain": [
              "<Figure size 537.625x288 with 1 Axes>"
            ]
          },
          "metadata": {}
        },
        {
          "output_type": "display_data",
          "data": {
            "image/png": "[encoded data removed]",
            "text/plain": [
              "<Figure size 537.625x288 with 1 Axes>"
            ]
          },
          "metadata": {}
        },
        {
          "output_type": "display_data",
          "data": {
            "image/png": "[encoded data removed]",
            "text/plain": [
              "<Figure size 537.625x288 with 1 Axes>"
            ]
          },
          "metadata": {}
        },
        {
          "output_type": "display_data",
          "data": {
            "image/png": "[encoded data removed]",
            "text/plain": [
              "<Figure size 537.625x288 with 1 Axes>"
            ]
          },
          "metadata": {}
        },
        {
          "output_type": "display_data",
          "data": {
            "image/png": "[encoded data removed]",
            "text/plain": [
              "<Figure size 537.625x288 with 1 Axes>"
            ]
          },
          "metadata": {}
        }
      ]
    },
    {
      "cell_type": "code",
      "metadata": {
        "id": "bFf0JhkjZ8Ex"
      },
      "source": [
        ""
      ],
      "execution_count": null,
      "outputs": []
    }
  ]
}