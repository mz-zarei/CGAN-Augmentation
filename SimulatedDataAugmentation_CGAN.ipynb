{
  "nbformat": 4,
  "nbformat_minor": 0,
  "metadata": {
    "accelerator": "GPU",
    "colab": {
      "name": "SimulatedDataAugmentation_CGAN.ipynb",
      "provenance": [],
      "collapsed_sections": [
        "fId6iYAExoZ5",
        "CNK8w3Dn5HPJ",
        "y6T-sYJr5_qZ",
        "iHFlIPNTPXwX"
      ],
      "machine_shape": "hm",
      "mount_file_id": "https://github.com/mz-zarei/CGAN-Augmentation/blob/main/SimulatedDataAugmentation_CGAN.ipynb",
      "authorship_tag": "ABX9TyPaawpS41RRas1qcRWZUHl4",
      "include_colab_link": true
    },
    "kernelspec": {
      "display_name": "Python 3",
      "name": "python3"
    },
    "language_info": {
      "name": "python"
    }
  },
  "cells": [
    {
      "cell_type": "markdown",
      "metadata": {
        "id": "view-in-github",
        "colab_type": "text"
      },
      "source": [
        "<a href=\"https://colab.research.google.com/github/mz-zarei/CGAN-Augmentation/blob/main/SimulatedDataAugmentation_CGAN.ipynb\" target=\"_parent\"><img src=\"https://colab.research.google.com/assets/colab-badge.svg\" alt=\"Open In Colab\"/></a>"
      ]
    },
    {
      "cell_type": "markdown",
      "metadata": {
        "id": "fId6iYAExoZ5"
      },
      "source": [
        "# **1-Import Libs**"
      ]
    },
    {
      "cell_type": "code",
      "metadata": {
        "cellView": "code",
        "id": "awBpkel75PlB",
        "outputId": "0c9d7fae-72ee-42eb-9ba7-a7c26e63ecd0",
        "colab": {
          "base_uri": "https://localhost:8080/"
        }
      },
      "source": [
        "# import nbeb\n",
        "import importlib\n",
        "import numpy as np\n",
        "import random\n",
        "from tqdm import tqdm\n",
        "import seaborn as sns\n",
        "import pandas as pd\n",
        "from sklearn.model_selection import train_test_split\n",
        "import matplotlib.pyplot as plt\n",
        "from sklearn.preprocessing import StandardScaler, MinMaxScaler\n",
        "from scipy.stats import kendalltau, pearsonr, spearmanr\n",
        "from numpy import expand_dims\n",
        "from numpy import zeros\n",
        "from numpy import ones\n",
        "from numpy import vstack\n",
        "from numpy.random import randn\n",
        "from numpy.random import randint\n",
        "from keras.datasets.mnist import load_data\n",
        "from tensorflow.keras.optimizers import Adam\n",
        "from keras.models import Sequential\n",
        "from keras.initializers import RandomNormal\n",
        "from keras.layers import Dense\n",
        "from keras.layers import Reshape\n",
        "from keras.layers import Flatten, BatchNormalization\n",
        "from keras.layers import Conv2D, Conv1D\n",
        "from keras.layers import Conv2DTranspose\n",
        "from keras.layers import LeakyReLU, ELU, ReLU, concatenate\n",
        "from keras.layers import Dropout\n",
        "from matplotlib import pyplot\n",
        "from keras import Input, Model\n",
        "import keras\n",
        "from keras.models import load_model\n",
        "from numpy.random import randn\n",
        "from matplotlib import pyplot\n",
        "import statsmodels.api as sm\n",
        "import statsmodels.formula.api as smf\n",
        "from statsmodels.distributions.empirical_distribution import ECDF\n",
        "from sklearn.metrics import mean_absolute_error, mean_squared_error, r2_score\n",
        "import matplotlib.pyplot as plt\n",
        "\n",
        "\n",
        "\n",
        "def MARD(results):\n",
        "    results_ = results.copy()\n",
        "    results_['MARD_nb'] =  abs((results['true_rank']-results['nb_rank'])/results['true_rank'])\n",
        "    mard = results_['MARD_nb'].sum()\n",
        "    return mard\n",
        "\n",
        "def FI(results):\n",
        "    FI_test = 0\n",
        "    for HS_level in [0.05,0.1,0.15,0.2]:\n",
        "        FI_test += 1-results[(results['true_rank'] > 1- HS_level) & (results['nb_rank'] > 1- HS_level)].count()[0]/results[(results['nb_rank'] > 1- HS_level)].count()[0]\n",
        "    return FI_test/4\n",
        "\n",
        "\n",
        "def PMD(results):\n",
        "    PMD_test = 0\n",
        "    for HS_level in [0.05,0.1,0.15,0.2]:\n",
        "        PMD_test += (results[results['true_rank'] > 1-HS_level]['Lambda'].mean() - results[results['nb_rank'] > 1-HS_level]['Lambda'].mean())/results[results['true_rank'] > 1-HS_level]['Lambda'].mean()\n",
        "    return PMD_test/4\n",
        "\n",
        "\n",
        "def rankHS(CrashData):\n",
        "    results = CrashData.copy()\n",
        "\n",
        "    results['y_pred_nb1'] = y_pred_NB1\n",
        "    results['y_pred_nb2'] = y_pred_NB2\n",
        "    results['alpha1'] = alpha1\n",
        "    results['alpha2'] = alpha2\n",
        "\n",
        "    results['w_nb1'] = 1/(1+results['alpha1']*results['y_pred_nb1'])\n",
        "    results['EB_nb1'] = results['w_nb1']*results['y_pred_nb1'] + (1-results['w_nb1'])*results['Obs']\n",
        "\n",
        "    results['w_nb2'] = 1/(1+results['alpha2']*results['y_pred_nb2'])\n",
        "    results['EB_nb2'] = results['w_nb2']*results['y_pred_nb2'] + (1-results['w_nb2'])*results['Obs']\n",
        "\n",
        "    results['true_rank'] =  results['Lambda'].rank(pct=True)\n",
        "    results['nb1_rank'] =  results['EB_nb1'].rank(pct=True)\n",
        "    results['nb2_rank'] =  results['EB_nb2'].rank(pct=True)\n",
        "    return results\n",
        "\n",
        "def eval(Concat_Data, CrashData, testData):\n",
        "    results = CrashData.copy()\n",
        "    y_test = test_data['Obs']\n",
        "    x_test = test_data[x_columns]\n",
        "    y_train = CrashData['Obs']\n",
        "    y_true = CrashData['Lambda']\n",
        "    x_train = CrashData[x_columns]\n",
        "\n",
        "    significant_features = nbeb.forward_regression(Concat_Data, x_columns, y_name='Obs', threshold_in=0.05, verbose=False)\n",
        "\n",
        "    NB_model, alpha_e  = nbeb.fitNB(Concat_Data, significant_features, y_name='Obs')\n",
        "\n",
        "    y_test_pred_NB = NB_model.predict(sm.add_constant(x_test[significant_features]))\n",
        "    y_pred_NB = NB_model.predict(sm.add_constant(CrashData[significant_features]))\n",
        "\n",
        "    MAPE_Pred = nbeb.MAPE(y_test.to_numpy(), y_test_pred_NB)\n",
        "\n",
        "    results['y_pred_nb'] = y_pred_NB\n",
        "    results['alpha'] = alpha_e\n",
        "    results['w_nb'] = 1/(1+results['alpha']*results['y_pred_nb'])\n",
        "    results['EB_nb'] = results['w_nb']*results['y_pred_nb'] + (1-results['w_nb'])*results['Obs']\n",
        "    results['true_rank'] =  results['Lambda'].rank(pct=True)\n",
        "    results['nb_rank'] =  results['EB_nb'].rank(pct=True)\n",
        "\n",
        "    FI_test, PMD_test, MARD_test = FI(results), PMD(results), MARD(results)\n",
        "    MAPE_EB =  nbeb.MAPE(results['EB_nb'].values,results['Lambda'].values)\n",
        "    MAPE_alpha = abs(alpha - alpha_e)/alpha\n",
        "\n",
        "\n",
        "    return [MAPE_Pred, FI_test, PMD_test, MARD_test, MAPE_EB, MAPE_alpha], len(significant_features)\n",
        "\n",
        "\n",
        "\n",
        "\n",
        "\n",
        "\n",
        "##################################################################################### GAN training Functions\n",
        "# define the standalone discriminator model\n",
        "def define_discriminator(in_shape=(7,)):\n",
        "    y = Input(shape=(x_size,), dtype='float')\n",
        "    y_output = Dense(100, activation=activation, kernel_initializer=kerner_initializer)(y)\n",
        "\n",
        "    label = Input(shape=(1,))\n",
        "    label_output = Dense(100, activation=activation, kernel_initializer=kerner_initializer)(label)\n",
        "\n",
        "    concat = concatenate([y_output, label_output])\n",
        "    concat = Dense(50, activation=activation, kernel_initializer=kerner_initializer)(concat)\n",
        "    concat = Dense(50, activation=activation, kernel_initializer=kerner_initializer)(concat)\n",
        "    validity = Dense(1, activation=\"sigmoid\", kernel_initializer=random_uniform)(concat)\n",
        "\n",
        "    model = Model(inputs=[y, label], outputs=validity)\n",
        "\n",
        "    # compile model\n",
        "    opt = Adam(learning_rate=dis_lr, beta_1=0.5, decay=dis_dec)\n",
        "    model.compile(loss='binary_crossentropy', optimizer=opt, metrics=['accuracy'])\n",
        "    return model\n",
        "\n",
        "# define the standalone generator model\n",
        "def define_generator(latent_dim, in_shape=1):\n",
        "    y = Input(shape=in_shape, dtype='float')\n",
        "    y_output = Dense(100, activation=activation, kernel_initializer=kerner_initializer)(y)\n",
        "\n",
        "    noise = Input(shape=(latent_dim,))\n",
        "    noise_output = Dense(100, activation=activation, kernel_initializer=kerner_initializer)(noise)\n",
        "\n",
        "    concat = concatenate([y_output, noise_output])\n",
        "\n",
        "    output = Dense(50, activation=activation, kernel_initializer=kerner_initializer)(concat)\n",
        "    output = Dense(50, activation=activation, kernel_initializer=kerner_initializer)(output)\n",
        "    output = Dense(50, activation=activation, kernel_initializer=kerner_initializer)(output)\n",
        "    output = Dense(x_size, activation=\"relu\", kernel_initializer=random_normal)(output)\n",
        "\n",
        "    model = Model(inputs=[noise, y], outputs=output)\n",
        "    return model\n",
        "\n",
        "# define the combined generator and discriminator model, for updating the generator\n",
        "def define_gan(g_model, d_model):\n",
        "    # make weights in the discriminator not trainable\n",
        "    d_model.trainable = False\n",
        "    # get noise and label inputs from generator model\n",
        "    gen_noise, gen_label = g_model.input\n",
        "    # get output from the generator model\n",
        "    gen_output = g_model.output\n",
        "    # connect output and label input from generator as inputs to discriminator\n",
        "    gan_output = d_model([gen_output, gen_label])\n",
        "    # define gan model as taking noise and label and outputting a classification\n",
        "    model = Model([gen_noise, gen_label], gan_output)\n",
        "    # compile model\n",
        "    opt = Adam(learning_rate=gen_lr, beta_1=0.5, decay=gen_dec)\n",
        "    model.compile(loss='binary_crossentropy', optimizer=opt)\n",
        "    return model\n",
        "\n",
        "# load and prepare training set\n",
        "def load_real_samples(x_train,y_train):\n",
        "\n",
        "    trainX = x_train.to_numpy()\n",
        "    trainY = y_train.to_numpy()\n",
        "\n",
        "    return [trainX, trainY]\n",
        "\n",
        "# select real samples\n",
        "def generate_real_samples(dataset, n_samples):\n",
        "    # choose random instances\n",
        "    ix = randint(0, dataset[0].shape[0], n_samples)\n",
        "    # retrieve selected images\n",
        "    X, labels = dataset[0][ix], dataset[1][ix]\n",
        "    # generate 'real' class labels (1)\n",
        "    y = ones((n_samples, 1))\n",
        "    return [X, labels], y\n",
        "\n",
        "# generate emipircal distribution of real y samples\n",
        "def generate_y_labels(y_train, size):\n",
        "    y_train = y_train.tolist()\n",
        "\n",
        "    min_y = min(y_train)\n",
        "    max_y = max(y_train)\n",
        "\n",
        "    y_list = range(min_y, max_y+1)\n",
        "    y_prob_list = []\n",
        "\n",
        "\n",
        "    for y in y_list:\n",
        "        y_prob = y_train.count(y)/len(y_train)\n",
        "        y_prob_list.append(y_prob)\n",
        "\n",
        "    for i, prob in enumerate(y_prob_list):\n",
        "        if prob == 0:\n",
        "            y_prob_list[i] = y_prob_list[len(y_prob_list)-1]\n",
        "    \n",
        "    y_prob_list_normalized = [float(i)/sum(y_prob_list) for i in y_prob_list]\n",
        "\n",
        "\n",
        "    sample_label = np.random.choice(y_list, size=size, p=y_prob_list_normalized)\n",
        "    return sample_label\n",
        "\n",
        "\n",
        "\n",
        "\n",
        "# generate points in latent space as input for the generator\n",
        "def generate_latent_points(latent_dim, n_samples):\n",
        "    # generate points in the latent space\n",
        "    x_input = randn(latent_dim * n_samples) #randn(latent_dim * n_samples)\n",
        "    # reshape into a batch of inputs for the network\n",
        "    z_input = x_input.reshape(n_samples, latent_dim)\n",
        "    # generate labels\n",
        "    idx = np.random.randint(0, train_size, n_samples)\n",
        "    labels = dataset[1][idx]\n",
        "    return [z_input, labels]\n",
        "\n",
        "# use the generator to generate n fake examples, with class labels\n",
        "def generate_fake_samples(generator, latent_dim, n_samples):\n",
        "    # generate points in latent space\n",
        "    z_input, labels_input = generate_latent_points(latent_dim, n_samples)\n",
        "    # predict outputs\n",
        "    samples = generator.predict([z_input, labels_input])\n",
        "    # create class labels\n",
        "    y = zeros((n_samples, 1))\n",
        "    return [samples, labels_input], y\n",
        "\n",
        "# create a line plot of loss for the gan and save to file\n",
        "def plot_history(d1_hist, d2_hist, g_hist):\n",
        "    # plot history\n",
        "    pyplot.plot(d1_hist, label='Dis loss real')\n",
        "    pyplot.plot(d2_hist, label='Dis loss fake')\n",
        "    pyplot.plot(g_hist, label='Gen loss')\n",
        "    pyplot.legend()\n",
        "    pyplot.savefig('plot_line_plot_loss.png')\n",
        "\n",
        "# evaluate the discriminator, plot generated images, save generator model\n",
        "def summarize_performance(epoch, g_model, d_model, dataset, latent_dim, n_samples=100):\n",
        "    # prepare real samples\n",
        "    X_real, y_real = generate_real_samples(dataset, n_samples)\n",
        "    # evaluate discriminator on real examples\n",
        "    _, acc_real = d_model.evaluate(X_real, y_real, verbose=0)\n",
        "    # prepare fake examples\n",
        "    x_fake, y_fake = generate_fake_samples(g_model, latent_dim, n_samples)\n",
        "    # evaluate discriminator on fake examples\n",
        "    _, acc_fake = d_model.evaluate(x_fake, y_fake, verbose=0)\n",
        "    # summarize discriminator performance\n",
        "    print('>Accuracy real: %.0f%%, fake: %.0f%%' % (acc_real*100, acc_fake*100))\n",
        "    # save the generator model tile file\n",
        "    filename = '/content/drive/MyDrive/GAN_regression/ganRegression/CGAN_augment_models/generator_model_%03d.h5' % (epoch + 1)\n",
        "    g_model.save(filename)\n",
        "\n",
        "# train the generator and discriminator\n",
        "def train(g_model, d_model, gan_model, dataset, latent_dim, n_epochs, n_batch):\n",
        "    bat_per_epo = int(dataset[0].shape[0] / n_batch)\n",
        "    half_batch = int(n_batch / 2)\n",
        "    # lists for keeping track of loss\n",
        "    d1_hist, d2_hist, g_hist = list(), list(), list()\n",
        "    # manually enumerate epochs\n",
        "    for i in range(n_epochs):\n",
        "        # enumerate batches over the training set\n",
        "        for j in range(bat_per_epo):\n",
        "            # get randomly selected 'real' samples\n",
        "            [X_real, labels_real], y_real = generate_real_samples(dataset, half_batch)\n",
        "            # update discriminator model weights\n",
        "            d_loss1, _ = d_model.train_on_batch([X_real, labels_real], y_real)\n",
        "            # generate 'fake' examples\n",
        "            [X_fake, labels], y_fake = generate_fake_samples(g_model, latent_dim, half_batch)\n",
        "            # update discriminator model weights\n",
        "            d_loss2, _ = d_model.train_on_batch([X_fake, labels], y_fake)\n",
        "            # prepare points in latent space as input for the generator\n",
        "            [z_input, labels_input] = generate_latent_points(latent_dim, n_batch)\n",
        "            # create inverted labels for the fake samples\n",
        "            y_gan = ones((n_batch, 1))\n",
        "            # update the generator via the discriminator's error\n",
        "            g_loss = gan_model.train_on_batch([z_input, labels_input], y_gan)\n",
        "\n",
        "        d1_hist.append(d_loss1)\n",
        "        d2_hist.append(d_loss2)\n",
        "        g_hist.append(g_loss)\n",
        "        # evaluate the model performance, sometimes\n",
        "        if (i+1) % 500 == 0 and (i+1) > 3000:\n",
        "            summarize_performance(i, g_model, d_model, dataset, latent_dim)\n",
        "            print('Epoch: %d, dLoss real = %.3f, dLoss fake = %.3f, gLoss = %.3f' % (i+1, d_loss1, d_loss2, g_loss))\n",
        "    plot_history(d1_hist, d2_hist, g_hist)\n",
        "    return d1_hist, d2_hist, g_hist\n",
        "\n",
        "\n",
        "\n",
        "\n",
        "seed = 42\n",
        "kerner_initializer = keras.initializers.he_normal(seed=seed)\n",
        "random_uniform = keras.initializers.RandomUniform(seed=seed)\n",
        "random_normal = keras.initializers.RandomNormal(seed=seed)\n",
        "latent_dim, x_size = 4, 4\n",
        "activation = \"elu\"\n",
        "\n",
        "\n",
        "\n",
        "alpha, constant = 0.5, 0.5\n",
        "train_size, test_size = 500, 1000\n",
        "\n",
        "x_columns = ['X1','X2','X3','X4']\n",
        "path = '/content/drive/MyDrive/GAN_regression/ganRegression/SimulatedData/AugmentData_R1_'+str(train_size)+'_'+str(alpha)+'_'+str(constant)+'.xlsx'"
      ],
      "execution_count": 2,
      "outputs": [
        {
          "output_type": "stream",
          "name": "stderr",
          "text": [
            "/usr/local/lib/python3.7/dist-packages/statsmodels/tools/_testing.py:19: FutureWarning: pandas.util.testing is deprecated. Use the functions in the public API at pandas.testing instead.\n",
            "  import pandas.util.testing as tm\n"
          ]
        }
      ]
    },
    {
      "cell_type": "markdown",
      "metadata": {
        "id": "CNK8w3Dn5HPJ"
      },
      "source": [
        "# **2-Simulate Test Train Crash Data**"
      ]
    },
    {
      "cell_type": "code",
      "metadata": {
        "id": "qMB1I7im5GDp",
        "colab": {
          "base_uri": "https://localhost:8080/",
          "height": 283
        },
        "outputId": "b4d6a56d-a322-4f1b-e0d4-648e23d54b8c"
      },
      "source": [
        "alpha, constant = 2, 0.5\n",
        "train_size, test_size = 100, 1000\n",
        "\n",
        "path = '/content/AugmentData_'+str(train_size)+'_'+str(alpha)+'_'+str(constant)+'.xlsx'\n",
        "\n",
        "test_data = nbeb.simulateCrashData([0.5, -0.5, 1, -1], data_size=test_size, error_mean=1, error_var=alpha, constant=constant)\n",
        "y_test = test_data['Obs']\n",
        "x_test = test_data[x_columns]\n",
        "\n",
        "\n",
        "CrashData = nbeb.simulateCrashData([0.5, -0.5, 1, -1], data_size=train_size, error_mean=1, error_var=alpha, constant=constant)\n",
        "\n",
        "CrashData.to_excel(path)\n",
        "print('Train size: ', train_size, ' Dispersion: ', alpha, ' mean: ', np.exp(constant))\n",
        "CrashData.head()\n",
        "ax = plt.hist(CrashData['Obs'])"
      ],
      "execution_count": 79,
      "outputs": [
        {
          "output_type": "stream",
          "name": "stdout",
          "text": [
            "Train size:  100  Dispersion:  2  mean:  1.6487212707001282\n"
          ]
        },
        {
          "output_type": "display_data",
          "data": {
            "text/plain": [
              "<Figure size 432x288 with 1 Axes>"
            ],
            "image/png": "[encoded data removed]"
          },
          "metadata": {
            "needs_background": "light"
          }
        }
      ]
    },
    {
      "cell_type": "markdown",
      "metadata": {
        "id": "y6T-sYJr5_qZ"
      },
      "source": [
        "# **3-Train GAN**"
      ]
    },
    {
      "cell_type": "code",
      "metadata": {
        "colab": {
          "base_uri": "https://localhost:8080/",
          "height": 499
        },
        "id": "4Fy4SHcK1e6b",
        "outputId": "ffdd75b6-51ec-4816-d490-a21a7b5afd08"
      },
      "source": [
        "CrashData = pd.read_excel(path)\n",
        "y_train1 = CrashData['Obs']\n",
        "x_train1 = CrashData[x_columns]\n",
        "\n",
        "\n",
        "gen_lr, dis_lr, gen_dec, dis_dec, n_epochs, n_batch = 0.001, 0.001, 0.001,0, 5000, int(50)  \n",
        "\n",
        "# create the discriminator\n",
        "d_model = define_discriminator()\n",
        "# create the generator\n",
        "g_model = define_generator(latent_dim)\n",
        "# create the gan\n",
        "gan_model = define_gan(g_model, d_model)\n",
        "# load image data\n",
        "dataset = load_real_samples(x_train1,y_train1)\n",
        "# # train model\n",
        "d1_hist, d2_hist, g_hist = train(g_model, d_model, gan_model, dataset, latent_dim, n_epochs, n_batch)"
      ],
      "execution_count": 80,
      "outputs": [
        {
          "output_type": "stream",
          "name": "stdout",
          "text": [
            ">Accuracy real: 62%, fake: 59%\n",
            "WARNING:tensorflow:Compiled the loaded model, but the compiled metrics have yet to be built. `model.compile_metrics` will be empty until you train or evaluate the model.\n",
            "Epoch: 3500, dLoss real = 0.524, dLoss fake = 0.634, gLoss = 0.881\n",
            ">Accuracy real: 71%, fake: 77%\n",
            "WARNING:tensorflow:Compiled the loaded model, but the compiled metrics have yet to be built. `model.compile_metrics` will be empty until you train or evaluate the model.\n",
            "Epoch: 4000, dLoss real = 0.601, dLoss fake = 0.589, gLoss = 1.076\n",
            ">Accuracy real: 88%, fake: 81%\n",
            "WARNING:tensorflow:Compiled the loaded model, but the compiled metrics have yet to be built. `model.compile_metrics` will be empty until you train or evaluate the model.\n",
            "Epoch: 4500, dLoss real = 0.455, dLoss fake = 0.548, gLoss = 1.181\n",
            ">Accuracy real: 68%, fake: 83%\n",
            "WARNING:tensorflow:Compiled the loaded model, but the compiled metrics have yet to be built. `model.compile_metrics` will be empty until you train or evaluate the model.\n",
            "Epoch: 5000, dLoss real = 0.458, dLoss fake = 0.336, gLoss = 1.926\n"
          ]
        },
        {
          "output_type": "display_data",
          "data": {
            "text/plain": [
              "<Figure size 432x288 with 1 Axes>"
            ],
            "image/png": "[encoded data removed]"
          },
          "metadata": {
            "needs_background": "light"
          }
        }
      ]
    },
    {
      "cell_type": "markdown",
      "metadata": {
        "id": "iHFlIPNTPXwX"
      },
      "source": [
        "# **4-Fit and Compare NB models**"
      ]
    },
    {
      "cell_type": "markdown",
      "metadata": {
        "id": "dBqW1J-vWQIW"
      },
      "source": [
        "## **Fit NB model with original data size**"
      ]
    },
    {
      "cell_type": "code",
      "metadata": {
        "colab": {
          "base_uri": "https://localhost:8080/"
        },
        "id": "wLjI9g2VoWxv",
        "outputId": "4a29c542-5b41-4a9c-c442-57ba67dc2e62"
      },
      "source": [
        "## NB model with train data\n",
        "alpha, constant = 0.25, 0.5\n",
        "train_size, test_size = 100, 1000\n",
        "\n",
        "path = '/content/drive/MyDrive/GAN_regression/ganRegression/SimulatedData/AugmentData_'+str(train_size)+'_'+str(alpha)+'_'+str(constant)+'.xlsx'\n",
        "\n",
        "CrashData = pd.read_excel(path)\n",
        "\n",
        "test_data = nbeb.simulateCrashData([0.5, -0.5, 1, -1], data_size=test_size, error_mean=1, error_var=alpha, constant=constant)\n",
        "y_test = test_data['Obs']\n",
        "x_test = test_data[x_columns]\n",
        "\n",
        "\n",
        "significant_features1 = nbeb.forward_regression(CrashData, x_columns, y_name='Obs', threshold_in=0.05, verbose=False)\n",
        "\n",
        "NB_model1, alpha1  = nbeb.fitNB(CrashData, significant_features1, y_name='Obs')\n",
        "\n",
        "y_test_pred_NB1 = NB_model1.predict(sm.add_constant(x_test[significant_features1]))\n",
        "y_pred_NB1 = NB_model1.predict(sm.add_constant(CrashData[significant_features1]))\n",
        "\n",
        "mae_NB1, mape_NB1, r2_NB1 = round(mean_absolute_error(y_test, y_test_pred_NB1),3), round(nbeb.MAPE(y_test.to_numpy(), y_test_pred_NB1),3), round(r2_score(y_test, y_test_pred_NB1),3)\n",
        "\n",
        "print(\"Test Set  --- MAE: \", mae_NB1, \"| MAPE: \", mape_NB1, \"| R2 score: \", r2_NB1, \" | Alpha: \", alpha1)\n",
        "print(NB_model1.summary2())"
      ],
      "execution_count": 11,
      "outputs": [
        {
          "output_type": "stream",
          "name": "stderr",
          "text": [
            "/usr/local/lib/python3.7/dist-packages/statsmodels/tsa/tsatools.py:117: FutureWarning: In a future version of pandas all arguments of concat except for the argument 'objs' will be keyword-only\n",
            "  x = pd.concat(x[::order], 1)\n"
          ]
        },
        {
          "output_type": "stream",
          "name": "stdout",
          "text": [
            "Test Set  --- MAE:  1.287 | MAPE:  0.589 | R2 score:  0.138  | Alpha:  0.1920827357481847\n",
            "              Results: Generalized linear model\n",
            "==============================================================\n",
            "Model:              GLM              AIC:            332.4013 \n",
            "Link Function:      log              BIC:            -325.1421\n",
            "Dependent Variable: Obs              Log-Likelihood: -163.20  \n",
            "Date:               2022-07-29 16:18 LL-Null:        -179.43  \n",
            "No. Observations:   100              Deviance:       121.56   \n",
            "Df Model:           2                Pearson chi2:   108.     \n",
            "Df Residuals:       97               Scale:          1.0000   \n",
            "Method:             IRLS                                      \n",
            "---------------------------------------------------------------\n",
            "            Coef.   Std.Err.     z     P>|z|    [0.025   0.975]\n",
            "---------------------------------------------------------------\n",
            "const       0.2796    0.2741   1.0201  0.3077  -0.2576   0.8168\n",
            "X3          1.3896    0.3453   4.0238  0.0001   0.7127   2.0664\n",
            "X4         -1.1080    0.3245  -3.4142  0.0006  -1.7441  -0.4719\n",
            "==============================================================\n",
            "\n"
          ]
        }
      ]
    },
    {
      "cell_type": "markdown",
      "metadata": {
        "id": "m-8AGoG6WWWE"
      },
      "source": [
        "## **Fit NB model with CGAN augmented data size**"
      ]
    },
    {
      "cell_type": "code",
      "metadata": {
        "colab": {
          "base_uri": "https://localhost:8080/"
        },
        "id": "vl_Kswts2_aI",
        "outputId": "e920332d-4c95-420b-ab8f-2da62d3ee7e8"
      },
      "source": [
        "# load GAN model\n",
        "model_path = '/content/drive/MyDrive/GAN_regression/ganRegression/CGAN_augment_models/generator_model_'+str(train_size)+'_'+str(alpha)+'_'+str(constant)+'.h5'\n",
        "# model_path = '/content/drive/MyDrive/GAN_regression/ganRegression/CGAN_augment_models/generator_model_3500.h5'\n",
        "model = load_model(model_path, compile=False)\n",
        "dataset = load_real_samples(x_train1, y_train1)\n",
        "augment_size = 500\n",
        "\n",
        "# generate samples\n",
        "latent_points = generate_latent_points(latent_dim, augment_size)\n",
        "# generate images\n",
        "Fake_data = model.predict(latent_points)\n",
        "fake = pd.DataFrame(Fake_data, columns=x_columns)\n",
        "fake['Obs'] = latent_points[1]\n",
        "\n",
        "\n",
        "## NB model with real and fake data\n",
        "# Find significant features\n",
        "concat_data = pd.concat([CrashData, fake])\n",
        "x_train2 = concat_data[x_columns]\n",
        "y_train2 = concat_data['Obs']\n",
        "significant_features2 = nbeb.forward_regression(concat_data, x_columns, y_name='Obs', threshold_in=0.05, verbose=False) \n",
        "\n",
        "NB_model2, alpha2 = nbeb.fitNB(concat_data, significant_features2, y_name='Obs')\n",
        "\n",
        "y_pred_NB2 = NB_model2.predict(sm.add_constant(x_train1[significant_features2]))\n",
        "y_test_pred_NB2 = NB_model2.predict(sm.add_constant(x_test[significant_features2]))\n",
        "\n",
        "\n",
        "mae_NB2, mape_NB2, r2_NB2 = round(mean_absolute_error(y_test, y_test_pred_NB2),3), round(nbeb.MAPE(y_test.to_numpy(), y_test_pred_NB2),3), round(r2_score(y_test, y_test_pred_NB2),3)\n",
        "print(\"Test Set  --- MAE: \", mae_NB2, \"| MAPE: \", mape_NB2, \"| R2 score: \", r2_NB2, \" | Alpha: \", alpha2)\n",
        "\n",
        "print(NB_model2.summary2())\n",
        "\n",
        "# fake.hist(figsize=(10,8),bins=10)\n",
        "# fake.describe()"
      ],
      "execution_count": 14,
      "outputs": [
        {
          "output_type": "stream",
          "name": "stderr",
          "text": [
            "/usr/local/lib/python3.7/dist-packages/statsmodels/tsa/tsatools.py:117: FutureWarning: In a future version of pandas all arguments of concat except for the argument 'objs' will be keyword-only\n",
            "  x = pd.concat(x[::order], 1)\n"
          ]
        },
        {
          "output_type": "stream",
          "name": "stdout",
          "text": [
            "Test Set  --- MAE:  1.342 | MAPE:  0.624 | R2 score:  0.002  | Alpha:  0.05877193672178843\n",
            "               Results: Generalized linear model\n",
            "===============================================================\n",
            "Model:              GLM              AIC:            1870.6494 \n",
            "Link Function:      log              BIC:            -2927.4145\n",
            "Dependent Variable: Obs              Log-Likelihood: -930.32   \n",
            "Date:               2022-07-29 16:18 LL-Null:        -1669.1   \n",
            "No. Observations:   600              Deviance:       878.76    \n",
            "Df Model:           4                Pearson chi2:   940.      \n",
            "Df Residuals:       595              Scale:          1.0000    \n",
            "Method:             IRLS                                       \n",
            "----------------------------------------------------------------\n",
            "            Coef.   Std.Err.     z      P>|z|    [0.025   0.975]\n",
            "----------------------------------------------------------------\n",
            "const       1.5468    0.1036   14.9319  0.0000   1.3438   1.7498\n",
            "X3          0.8350    0.1038    8.0474  0.0000   0.6316   1.0383\n",
            "X4         -2.0134    0.1527  -13.1874  0.0000  -2.3126  -1.7141\n",
            "X2         -1.2080    0.1228   -9.8343  0.0000  -1.4488  -0.9673\n",
            "X1         -0.1916    0.0973   -1.9684  0.0490  -0.3823  -0.0008\n",
            "===============================================================\n",
            "\n"
          ]
        }
      ]
    },
    {
      "cell_type": "markdown",
      "metadata": {
        "id": "JDefqUV20gRq"
      },
      "source": [
        "# **5-Replications**"
      ]
    },
    {
      "cell_type": "code",
      "metadata": {
        "id": "qUC4j-KSXKfS",
        "colab": {
          "base_uri": "https://localhost:8080/"
        },
        "outputId": "26641fe9-0c82-45d9-b04e-8991a2068e73"
      },
      "source": [
        "tests = []\n",
        "constant = 0.5\n",
        "train_size, test_size = 100, 1000\n",
        "\n",
        "for alpha in [0.25,0.5,1.5, 2]:\n",
        "    for i in tqdm(range(500)):\n",
        "        ## Simulate new validation data\n",
        "        test_data = nbeb.simulateCrashData([0.5, -0.5, 1, -1], data_size=test_size, error_mean=1, error_var=alpha+0.05, constant=constant)\n",
        "        CrashData = nbeb.simulateCrashData([0.5, -0.5, 1, -1], data_size=train_size, error_mean=1, error_var=alpha+0.05, constant=constant)\n",
        "\n",
        "        y_train = CrashData['Obs']\n",
        "        x_train = CrashData[x_columns]\n",
        "\n",
        "        ## Generate Fake data\n",
        "        # load GAN model\n",
        "        model = load_model('/content/drive/MyDrive/GAN_regression/ganRegression/CGAN_augment_models/generator_model_'+str(train_size)+'_'+str(alpha)+'_'+str(constant)+'.h5', compile=False)\n",
        "        dataset = load_real_samples(x_train, y_train)\n",
        "        # generate samples\n",
        "        latent_points = generate_latent_points(latent_dim, 1000)\n",
        "        Fake_data = model.predict(latent_points)\n",
        "        fake = pd.DataFrame(Fake_data, columns=x_columns)\n",
        "        fake['Obs'] = latent_points[1]\n",
        "\n",
        "\n",
        "        ## Evaluation results\n",
        "        for fake_size in [0, 200, 500, 1000]:\n",
        "            eval_list = []\n",
        "            eval_list.append(fake_size)\n",
        "            eval_list.append(alpha)\n",
        "            Concat_data = pd.concat([CrashData, fake.sample(fake_size)])\n",
        "            eval_results, sig_fit = eval(Concat_data, CrashData, test_data)\n",
        "            \n",
        "            eval_list.extend(eval_results)\n",
        "            if fake_size == 0:\n",
        "                sig_fit0 = sig_fit\n",
        "            \n",
        "            eval_list.append(sig_fit0)\n",
        "\n",
        "            tests.append(eval_list)\n"
      ],
      "execution_count": 2,
      "outputs": [
        {
          "output_type": "stream",
          "name": "stderr",
          "text": [
            "\r  0%|          | 0/500 [00:00<?, ?it/s]/usr/local/lib/python3.7/dist-packages/statsmodels/tsa/tsatools.py:117: FutureWarning: In a future version of pandas all arguments of concat except for the argument 'objs' will be keyword-only\n",
            "  x = pd.concat(x[::order], 1)\n",
            "100%|██████████| 500/500 [12:05<00:00,  1.45s/it]\n",
            "100%|██████████| 500/500 [11:11<00:00,  1.34s/it]\n"
          ]
        }
      ]
    },
    {
      "cell_type": "code",
      "metadata": {
        "id": "dRsRAKeMD45n"
      },
      "source": [
        "tests = pd.DataFrame(tests, columns=[\"Synthetic Data Size\", \"Dispersion\", \"MAPE(test)\", \"FI\", \"PMD\", \"MARD\", \"MAPE(EB)\", \"MAPE(alpha)\", \"Significant Features\"])\n",
        "tests.to_excel('Results_'+str(train_size)+'.xlsx')"
      ],
      "execution_count": 3,
      "outputs": []
    },
    {
      "cell_type": "markdown",
      "metadata": {
        "id": "1jkDJCtgk6Oo"
      },
      "source": [
        "# **6-Plots**"
      ]
    },
    {
      "cell_type": "code",
      "metadata": {
        "colab": {
          "base_uri": "https://localhost:8080/",
          "height": 1000
        },
        "id": "Tby9vtHlCoeN",
        "outputId": "10837b3d-5334-4781-b189-af928c15cd64"
      },
      "source": [
        "import seaborn as sns\n",
        "import pandas as pd\n",
        "import matplotlib.pyplot as plt\n",
        "kind = 'box'\n",
        "\n",
        "tests = pd.read_excel('/content/Results_100.xlsx')\n",
        "sns.set_style(\"darkgrid\")\n",
        "\n",
        "s = sns.catplot(data=tests, x=\"Dispersion\", y = \"FI\", hue=\"Synthetic Data Size\", width=0.4, kind=kind, height=4, aspect=1.5, showfliers=False, showmeans =True)\n",
        "s._legend.remove()\n",
        "plt.show()\n",
        "s.savefig('FI.pdf')\n",
        "\n",
        "s = sns.catplot(data=tests, x=\"Dispersion\", y = \"PMD\", hue=\"Synthetic Data Size\", width=0.4,  kind=kind, height=4, aspect=1.5, showfliers=False, showmeans =True)\n",
        "s._legend.remove()\n",
        "plt.show()\n",
        "s.savefig('PMD.pdf')\n",
        "\n",
        "s = sns.catplot(data=tests, x=\"Dispersion\", y = \"MAPE (EB)\", hue=\"Synthetic Data Size\", width=0.4, kind=kind, height=4, aspect=1.5, showfliers=False, showmeans =True)\n",
        "s._legend.remove()\n",
        "plt.show()\n",
        "s.savefig('EB.pdf')\n",
        "\n",
        "s = sns.catplot(data=tests, x=\"Dispersion\", y = \"MAPE (Crash)\", hue=\"Synthetic Data Size\", width=0.4,  kind=kind, height=4, aspect=1.5, showfliers=False, showmeans =True)\n",
        "s._legend.remove()\n",
        "plt.show()\n",
        "s.savefig('Crash.pdf')\n",
        "\n",
        "s = sns.catplot(data=tests, x=\"Dispersion\", y = \"MAPE (Dispersion)\", hue=\"Synthetic Data Size\", width=0.4,  kind=kind, height=4, aspect=1.5, showfliers=False, showmeans =True)\n",
        "plt.show()\n",
        "s.savefig('Dispersion.pdf')\n",
        "\n"
      ],
      "execution_count": 19,
      "outputs": [
        {
          "output_type": "display_data",
          "data": {
            "text/plain": [
              "<Figure size 537.625x288 with 1 Axes>"
            ],
            "image/png": "[encoded data removed]"
          },
          "metadata": {}
        },
        {
          "output_type": "display_data",
          "data": {
            "text/plain": [
              "<Figure size 537.625x288 with 1 Axes>"
            ],
            "image/png": "[encoded data removed]"
          },
          "metadata": {}
        },
        {
          "output_type": "display_data",
          "data": {
            "text/plain": [
              "<Figure size 537.625x288 with 1 Axes>"
            ],
            "image/png": "[encoded data removed]"
          },
          "metadata": {}
        },
        {
          "output_type": "display_data",
          "data": {
            "text/plain": [
              "<Figure size 537.625x288 with 1 Axes>"
            ],
            "image/png": "[encoded data removed]"
          },
          "metadata": {}
        },
        {
          "output_type": "display_data",
          "data": {
            "text/plain": [
              "<Figure size 537.625x288 with 1 Axes>"
            ],
            "image/png": "[encoded data removed]"
          },
          "metadata": {}
        }
      ]
    },
    {
      "cell_type": "code",
      "metadata": {
        "id": "lwIou0C81J_F"
      },
      "source": [
        "sns.catplot(data=tests, x=\"Dispersion\", y = \"FI\", hue=\"Synthetic Data Size\", width=0.4, kind=\"box\", height=4, aspect=1.5, showfliers=False, showmeans =True)\n",
        "sns.catplot(data=tests, x=\"Dispersion\", y = \"PMD\", hue=\"Synthetic Data Size\", width=0.4, kind=\"box\", height=4, aspect=1.5, showfliers=False, showmeans =True)\n",
        "sns.catplot(data=tests, x=\"Dispersion\", y = \"MAPE(test)\", hue=\"Synthetic Data Size\", width=0.4, kind=\"box\", height=4, aspect=1.5, showfliers=False, showmeans =True)\n",
        "sns.catplot(data=tests, x=\"Dispersion\", y = \"MAPE(EB)\", hue=\"Synthetic Data Size\", width=0.4, kind=\"box\", height=4, aspect=1.5, showfliers=False, showmeans =True)\n",
        "sns.catplot(data=tests, x=\"Dispersion\", y = \"MAPE(alpha)\", hue=\"Synthetic Data Size\", width=0.4, kind=\"box\", height=4, aspect=1.5, showfliers=False, showmeans =True)\n"
      ],
      "execution_count": null,
      "outputs": []
    },
    {
      "cell_type": "code",
      "metadata": {
        "id": "bFf0JhkjZ8Ex"
      },
      "source": [
        ""
      ],
      "execution_count": null,
      "outputs": []
    }
  ]
}